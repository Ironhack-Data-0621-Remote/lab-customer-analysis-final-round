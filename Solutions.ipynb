{
 "cells": [
  {
   "cell_type": "markdown",
   "metadata": {},
   "source": [
    "# Lab | Customer Analysis Final Round\n"
   ]
  },
  {
   "cell_type": "markdown",
   "metadata": {},
   "source": [
    "For this lab, we still keep using the marketing_customer_analysis.csv file that you can find in the files_for_lab folder.\n",
    "\n",
    "It's time to put it all together. Remember the previous rounds and follow the steps as shown in previous lectures."
   ]
  },
  {
   "cell_type": "markdown",
   "metadata": {},
   "source": [
    "## 01 - Problem (case study)"
   ]
  },
  {
   "cell_type": "markdown",
   "metadata": {},
   "source": [
    "- Data Description.\n",
    "\n",
    "- Goal."
   ]
  },
  {
   "cell_type": "code",
   "execution_count": 304,
   "metadata": {},
   "outputs": [],
   "source": [
    "# I set the goal as 'Total Claim Amount\t'.\n",
    "# I am not exactly sure about the what the data represents, but it is about the satisfactions/dissatisfactions\n",
    "# of customers of the car insurance."
   ]
  },
  {
   "cell_type": "code",
   "execution_count": 305,
   "metadata": {},
   "outputs": [],
   "source": [
    "import pandas as pd\n",
    "import numpy as np\n",
    "import matplotlib.pyplot as plt\n",
    "import seaborn as sns\n",
    "import scipy.stats as stats\n",
    "import os\n",
    "import math\n",
    "import statsmodels.api as sm\n",
    "\n",
    "\n",
    "from sklearn.model_selection import train_test_split\n",
    "from sklearn.linear_model import LinearRegression\n",
    "from sklearn.metrics import r2_score, mean_squared_error, mean_absolute_error\n",
    "\n",
    "import warnings\n",
    "warnings.filterwarnings('ignore')\n",
    "\n",
    "pd.options.display.max_columns = None"
   ]
  },
  {
   "cell_type": "markdown",
   "metadata": {},
   "source": [
    "## 02 - Getting Data"
   ]
  },
  {
   "cell_type": "markdown",
   "metadata": {},
   "source": [
    "Read the .csv file."
   ]
  },
  {
   "cell_type": "code",
   "execution_count": 306,
   "metadata": {},
   "outputs": [
    {
     "data": {
      "text/html": [
       "<div>\n",
       "<style scoped>\n",
       "    .dataframe tbody tr th:only-of-type {\n",
       "        vertical-align: middle;\n",
       "    }\n",
       "\n",
       "    .dataframe tbody tr th {\n",
       "        vertical-align: top;\n",
       "    }\n",
       "\n",
       "    .dataframe thead th {\n",
       "        text-align: right;\n",
       "    }\n",
       "</style>\n",
       "<table border=\"1\" class=\"dataframe\">\n",
       "  <thead>\n",
       "    <tr style=\"text-align: right;\">\n",
       "      <th></th>\n",
       "      <th>Customer</th>\n",
       "      <th>State</th>\n",
       "      <th>Customer Lifetime Value</th>\n",
       "      <th>Response</th>\n",
       "      <th>Coverage</th>\n",
       "      <th>Education</th>\n",
       "      <th>Effective To Date</th>\n",
       "      <th>EmploymentStatus</th>\n",
       "      <th>Gender</th>\n",
       "      <th>Income</th>\n",
       "      <th>Location Code</th>\n",
       "      <th>Marital Status</th>\n",
       "      <th>Monthly Premium Auto</th>\n",
       "      <th>Months Since Last Claim</th>\n",
       "      <th>Months Since Policy Inception</th>\n",
       "      <th>Number of Open Complaints</th>\n",
       "      <th>Number of Policies</th>\n",
       "      <th>Policy Type</th>\n",
       "      <th>Policy</th>\n",
       "      <th>Renew Offer Type</th>\n",
       "      <th>Sales Channel</th>\n",
       "      <th>Total Claim Amount</th>\n",
       "      <th>Vehicle Class</th>\n",
       "      <th>Vehicle Size</th>\n",
       "    </tr>\n",
       "  </thead>\n",
       "  <tbody>\n",
       "    <tr>\n",
       "      <th>0</th>\n",
       "      <td>BU79786</td>\n",
       "      <td>Washington</td>\n",
       "      <td>2763.519279</td>\n",
       "      <td>No</td>\n",
       "      <td>Basic</td>\n",
       "      <td>Bachelor</td>\n",
       "      <td>2/24/11</td>\n",
       "      <td>Employed</td>\n",
       "      <td>F</td>\n",
       "      <td>56274</td>\n",
       "      <td>Suburban</td>\n",
       "      <td>Married</td>\n",
       "      <td>69</td>\n",
       "      <td>32</td>\n",
       "      <td>5</td>\n",
       "      <td>0</td>\n",
       "      <td>1</td>\n",
       "      <td>Corporate Auto</td>\n",
       "      <td>Corporate L3</td>\n",
       "      <td>Offer1</td>\n",
       "      <td>Agent</td>\n",
       "      <td>384.811147</td>\n",
       "      <td>Two-Door Car</td>\n",
       "      <td>Medsize</td>\n",
       "    </tr>\n",
       "    <tr>\n",
       "      <th>1</th>\n",
       "      <td>QZ44356</td>\n",
       "      <td>Arizona</td>\n",
       "      <td>6979.535903</td>\n",
       "      <td>No</td>\n",
       "      <td>Extended</td>\n",
       "      <td>Bachelor</td>\n",
       "      <td>1/31/11</td>\n",
       "      <td>Unemployed</td>\n",
       "      <td>F</td>\n",
       "      <td>0</td>\n",
       "      <td>Suburban</td>\n",
       "      <td>Single</td>\n",
       "      <td>94</td>\n",
       "      <td>13</td>\n",
       "      <td>42</td>\n",
       "      <td>0</td>\n",
       "      <td>8</td>\n",
       "      <td>Personal Auto</td>\n",
       "      <td>Personal L3</td>\n",
       "      <td>Offer3</td>\n",
       "      <td>Agent</td>\n",
       "      <td>1131.464935</td>\n",
       "      <td>Four-Door Car</td>\n",
       "      <td>Medsize</td>\n",
       "    </tr>\n",
       "    <tr>\n",
       "      <th>2</th>\n",
       "      <td>AI49188</td>\n",
       "      <td>Nevada</td>\n",
       "      <td>12887.431650</td>\n",
       "      <td>No</td>\n",
       "      <td>Premium</td>\n",
       "      <td>Bachelor</td>\n",
       "      <td>2/19/11</td>\n",
       "      <td>Employed</td>\n",
       "      <td>F</td>\n",
       "      <td>48767</td>\n",
       "      <td>Suburban</td>\n",
       "      <td>Married</td>\n",
       "      <td>108</td>\n",
       "      <td>18</td>\n",
       "      <td>38</td>\n",
       "      <td>0</td>\n",
       "      <td>2</td>\n",
       "      <td>Personal Auto</td>\n",
       "      <td>Personal L3</td>\n",
       "      <td>Offer1</td>\n",
       "      <td>Agent</td>\n",
       "      <td>566.472247</td>\n",
       "      <td>Two-Door Car</td>\n",
       "      <td>Medsize</td>\n",
       "    </tr>\n",
       "    <tr>\n",
       "      <th>3</th>\n",
       "      <td>WW63253</td>\n",
       "      <td>California</td>\n",
       "      <td>7645.861827</td>\n",
       "      <td>No</td>\n",
       "      <td>Basic</td>\n",
       "      <td>Bachelor</td>\n",
       "      <td>1/20/11</td>\n",
       "      <td>Unemployed</td>\n",
       "      <td>M</td>\n",
       "      <td>0</td>\n",
       "      <td>Suburban</td>\n",
       "      <td>Married</td>\n",
       "      <td>106</td>\n",
       "      <td>18</td>\n",
       "      <td>65</td>\n",
       "      <td>0</td>\n",
       "      <td>7</td>\n",
       "      <td>Corporate Auto</td>\n",
       "      <td>Corporate L2</td>\n",
       "      <td>Offer1</td>\n",
       "      <td>Call Center</td>\n",
       "      <td>529.881344</td>\n",
       "      <td>SUV</td>\n",
       "      <td>Medsize</td>\n",
       "    </tr>\n",
       "    <tr>\n",
       "      <th>4</th>\n",
       "      <td>HB64268</td>\n",
       "      <td>Washington</td>\n",
       "      <td>2813.692575</td>\n",
       "      <td>No</td>\n",
       "      <td>Basic</td>\n",
       "      <td>Bachelor</td>\n",
       "      <td>2/3/11</td>\n",
       "      <td>Employed</td>\n",
       "      <td>M</td>\n",
       "      <td>43836</td>\n",
       "      <td>Rural</td>\n",
       "      <td>Single</td>\n",
       "      <td>73</td>\n",
       "      <td>12</td>\n",
       "      <td>44</td>\n",
       "      <td>0</td>\n",
       "      <td>1</td>\n",
       "      <td>Personal Auto</td>\n",
       "      <td>Personal L1</td>\n",
       "      <td>Offer1</td>\n",
       "      <td>Agent</td>\n",
       "      <td>138.130879</td>\n",
       "      <td>Four-Door Car</td>\n",
       "      <td>Medsize</td>\n",
       "    </tr>\n",
       "  </tbody>\n",
       "</table>\n",
       "</div>"
      ],
      "text/plain": [
       "  Customer       State  Customer Lifetime Value Response  Coverage Education  \\\n",
       "0  BU79786  Washington              2763.519279       No     Basic  Bachelor   \n",
       "1  QZ44356     Arizona              6979.535903       No  Extended  Bachelor   \n",
       "2  AI49188      Nevada             12887.431650       No   Premium  Bachelor   \n",
       "3  WW63253  California              7645.861827       No     Basic  Bachelor   \n",
       "4  HB64268  Washington              2813.692575       No     Basic  Bachelor   \n",
       "\n",
       "  Effective To Date EmploymentStatus Gender  Income Location Code  \\\n",
       "0           2/24/11         Employed      F   56274      Suburban   \n",
       "1           1/31/11       Unemployed      F       0      Suburban   \n",
       "2           2/19/11         Employed      F   48767      Suburban   \n",
       "3           1/20/11       Unemployed      M       0      Suburban   \n",
       "4            2/3/11         Employed      M   43836         Rural   \n",
       "\n",
       "  Marital Status  Monthly Premium Auto  Months Since Last Claim  \\\n",
       "0        Married                    69                       32   \n",
       "1         Single                    94                       13   \n",
       "2        Married                   108                       18   \n",
       "3        Married                   106                       18   \n",
       "4         Single                    73                       12   \n",
       "\n",
       "   Months Since Policy Inception  Number of Open Complaints  \\\n",
       "0                              5                          0   \n",
       "1                             42                          0   \n",
       "2                             38                          0   \n",
       "3                             65                          0   \n",
       "4                             44                          0   \n",
       "\n",
       "   Number of Policies     Policy Type        Policy Renew Offer Type  \\\n",
       "0                   1  Corporate Auto  Corporate L3           Offer1   \n",
       "1                   8   Personal Auto   Personal L3           Offer3   \n",
       "2                   2   Personal Auto   Personal L3           Offer1   \n",
       "3                   7  Corporate Auto  Corporate L2           Offer1   \n",
       "4                   1   Personal Auto   Personal L1           Offer1   \n",
       "\n",
       "  Sales Channel  Total Claim Amount  Vehicle Class Vehicle Size  \n",
       "0         Agent          384.811147   Two-Door Car      Medsize  \n",
       "1         Agent         1131.464935  Four-Door Car      Medsize  \n",
       "2         Agent          566.472247   Two-Door Car      Medsize  \n",
       "3   Call Center          529.881344            SUV      Medsize  \n",
       "4         Agent          138.130879  Four-Door Car      Medsize  "
      ]
     },
     "execution_count": 306,
     "metadata": {},
     "output_type": "execute_result"
    }
   ],
   "source": [
    "# importing the file\n",
    "\n",
    "df = pd.read_csv('files_for_lab/csv_files/marketing_customer_analysis.csv')\n",
    "df = df.drop_duplicates()\n",
    "df.head()"
   ]
  },
  {
   "cell_type": "markdown",
   "metadata": {},
   "source": [
    "## 03 - Cleaning/Wrangling/EDA"
   ]
  },
  {
   "cell_type": "markdown",
   "metadata": {},
   "source": [
    "- Change headers names.\n",
    "- Deal with NaN values.\n",
    "- Categorical Features.\n",
    "- Numerical Features.\n",
    "- Exploration."
   ]
  },
  {
   "cell_type": "code",
   "execution_count": 307,
   "metadata": {},
   "outputs": [
    {
     "name": "stdout",
     "output_type": "stream",
     "text": [
      "<class 'pandas.core.frame.DataFrame'>\n",
      "Int64Index: 9134 entries, 0 to 9133\n",
      "Data columns (total 24 columns):\n",
      " #   Column                         Non-Null Count  Dtype  \n",
      "---  ------                         --------------  -----  \n",
      " 0   customer                       9134 non-null   object \n",
      " 1   state                          9134 non-null   object \n",
      " 2   customer_lifetime_value        9134 non-null   float64\n",
      " 3   response                       9134 non-null   object \n",
      " 4   coverage                       9134 non-null   object \n",
      " 5   education                      9134 non-null   object \n",
      " 6   effective_to_date              9134 non-null   object \n",
      " 7   employmentstatus               9134 non-null   object \n",
      " 8   gender                         9134 non-null   object \n",
      " 9   income                         9134 non-null   int64  \n",
      " 10  location_code                  9134 non-null   object \n",
      " 11  marital_status                 9134 non-null   object \n",
      " 12  monthly_premium_auto           9134 non-null   int64  \n",
      " 13  months_since_last_claim        9134 non-null   int64  \n",
      " 14  months_since_policy_inception  9134 non-null   int64  \n",
      " 15  number_of_open_complaints      9134 non-null   int64  \n",
      " 16  number_of_policies             9134 non-null   int64  \n",
      " 17  policy_type                    9134 non-null   object \n",
      " 18  policy                         9134 non-null   object \n",
      " 19  renew_offer_type               9134 non-null   object \n",
      " 20  sales_channel                  9134 non-null   object \n",
      " 21  total_claim_amount             9134 non-null   float64\n",
      " 22  vehicle_class                  9134 non-null   object \n",
      " 23  vehicle_size                   9134 non-null   object \n",
      "dtypes: float64(2), int64(6), object(16)\n",
      "memory usage: 1.7+ MB\n"
     ]
    }
   ],
   "source": [
    "# Change headers names\n",
    "# There is no NaN values in the data set\n",
    "\n",
    "df.columns = [column.lower().replace(' ', '_') for column in df.columns]\n",
    "df.info()"
   ]
  },
  {
   "cell_type": "code",
   "execution_count": 308,
   "metadata": {},
   "outputs": [],
   "source": [
    "# set index as 'customer'\n",
    "\n",
    "df = df.set_index('customer')"
   ]
  },
  {
   "cell_type": "code",
   "execution_count": 309,
   "metadata": {},
   "outputs": [
    {
     "data": {
      "text/plain": [
       "Index(['state', 'response', 'coverage', 'education', 'effective_to_date',\n",
       "       'employmentstatus', 'gender', 'location_code', 'marital_status',\n",
       "       'policy_type', 'policy', 'renew_offer_type', 'sales_channel',\n",
       "       'vehicle_class', 'vehicle_size'],\n",
       "      dtype='object')"
      ]
     },
     "execution_count": 309,
     "metadata": {},
     "output_type": "execute_result"
    }
   ],
   "source": [
    "# Categorical Features\n",
    "\n",
    "df.select_dtypes(include=object).columns"
   ]
  },
  {
   "cell_type": "code",
   "execution_count": 310,
   "metadata": {},
   "outputs": [],
   "source": [
    "# Nominal and binary data are as followeing \n",
    "nominal = ['state']\n",
    "binary = ['response', 'education','employmentstatus','gender', 'location_code', 'marital_status',\n",
    "         'policy_type', 'policy', 'renew_offer_type', 'sales_channel', 'vehicle_class'] \n",
    "\n",
    "# following variables could be changed into numerical data type\n",
    "ordinal = ['coverage', 'vehicle_size']\n",
    "date = ['effective_to_date']"
   ]
  },
  {
   "cell_type": "code",
   "execution_count": 311,
   "metadata": {},
   "outputs": [
    {
     "data": {
      "text/plain": [
       "customer\n",
       "BU79786   2011-02-24\n",
       "QZ44356   2011-01-31\n",
       "AI49188   2011-02-19\n",
       "WW63253   2011-01-20\n",
       "HB64268   2011-02-03\n",
       "             ...    \n",
       "LA72316   2011-02-10\n",
       "PK87824   2011-02-12\n",
       "TD14365   2011-02-06\n",
       "UP19263   2011-02-03\n",
       "Y167826   2011-02-14\n",
       "Name: effective_to_date, Length: 9134, dtype: datetime64[ns]"
      ]
     },
     "execution_count": 311,
     "metadata": {},
     "output_type": "execute_result"
    }
   ],
   "source": [
    "# transform 'effective_to_data' into date variables\n",
    "\n",
    "df['effective_to_date'] = pd.to_datetime(df['effective_to_date'])\n",
    "df['effective_to_date']"
   ]
  },
  {
   "cell_type": "code",
   "execution_count": 312,
   "metadata": {},
   "outputs": [
    {
     "data": {
      "text/plain": [
       "Basic       5568\n",
       "Extended    2742\n",
       "Premium      824\n",
       "Name: coverage, dtype: int64"
      ]
     },
     "execution_count": 312,
     "metadata": {},
     "output_type": "execute_result"
    }
   ],
   "source": [
    "# transform the ordinal varialbes into numeric\n",
    "# first with 'coverage'\n",
    "\n",
    "df[\"coverage\"].value_counts()"
   ]
  },
  {
   "cell_type": "code",
   "execution_count": 313,
   "metadata": {},
   "outputs": [],
   "source": [
    "# not sure which is considered as privilaged 'Extended', so i will put 'coverage' into binary\n",
    "\n",
    "binary = ['response', 'coverage','education','employmentstatus','gender', 'location_code', 'marital_status',\n",
    "         'policy_type', 'policy', 'renew_offer_type', 'sales_channel', 'vehicle_class'] \n",
    "ordinal = [ 'vehicle_size']"
   ]
  },
  {
   "cell_type": "code",
   "execution_count": 314,
   "metadata": {},
   "outputs": [
    {
     "data": {
      "text/plain": [
       "Medsize    6424\n",
       "Small      1764\n",
       "Large       946\n",
       "Name: vehicle_size, dtype: int64"
      ]
     },
     "execution_count": 314,
     "metadata": {},
     "output_type": "execute_result"
    }
   ],
   "source": [
    "# transform 'vehicle_size' into numeric\n",
    "df[\"vehicle_size\"].value_counts()"
   ]
  },
  {
   "cell_type": "code",
   "execution_count": 315,
   "metadata": {},
   "outputs": [
    {
     "data": {
      "text/plain": [
       "2    6424\n",
       "1    1764\n",
       "3     946\n",
       "Name: vehicle_size, dtype: int64"
      ]
     },
     "execution_count": 315,
     "metadata": {},
     "output_type": "execute_result"
    }
   ],
   "source": [
    "# Small=1, Medsize=2, Large=3\n",
    "df[\"vehicle_size\"].replace({\"Small\": \"1\", \"Medsize\": \"2\", \"Large\": \"3\"}, inplace=True)\n",
    "df[\"vehicle_size\"] = pd.to_numeric(df[\"vehicle_size\"])\n",
    "\n",
    "df[\"vehicle_size\"].value_counts()"
   ]
  },
  {
   "cell_type": "code",
   "execution_count": 316,
   "metadata": {},
   "outputs": [
    {
     "name": "stdout",
     "output_type": "stream",
     "text": [
      "<class 'pandas.core.frame.DataFrame'>\n",
      "Index: 9134 entries, BU79786 to Y167826\n",
      "Data columns (total 23 columns):\n",
      " #   Column                         Non-Null Count  Dtype         \n",
      "---  ------                         --------------  -----         \n",
      " 0   state                          9134 non-null   object        \n",
      " 1   customer_lifetime_value        9134 non-null   float64       \n",
      " 2   response                       9134 non-null   object        \n",
      " 3   coverage                       9134 non-null   object        \n",
      " 4   education                      9134 non-null   object        \n",
      " 5   effective_to_date              9134 non-null   datetime64[ns]\n",
      " 6   employmentstatus               9134 non-null   object        \n",
      " 7   gender                         9134 non-null   object        \n",
      " 8   income                         9134 non-null   int64         \n",
      " 9   location_code                  9134 non-null   object        \n",
      " 10  marital_status                 9134 non-null   object        \n",
      " 11  monthly_premium_auto           9134 non-null   int64         \n",
      " 12  months_since_last_claim        9134 non-null   int64         \n",
      " 13  months_since_policy_inception  9134 non-null   int64         \n",
      " 14  number_of_open_complaints      9134 non-null   int64         \n",
      " 15  number_of_policies             9134 non-null   int64         \n",
      " 16  policy_type                    9134 non-null   object        \n",
      " 17  policy                         9134 non-null   object        \n",
      " 18  renew_offer_type               9134 non-null   object        \n",
      " 19  sales_channel                  9134 non-null   object        \n",
      " 20  total_claim_amount             9134 non-null   float64       \n",
      " 21  vehicle_class                  9134 non-null   object        \n",
      " 22  vehicle_size                   9134 non-null   int64         \n",
      "dtypes: datetime64[ns](1), float64(2), int64(7), object(13)\n",
      "memory usage: 1.9+ MB\n"
     ]
    }
   ],
   "source": [
    "# Check the changes of datatypes\n",
    "df.info() "
   ]
  },
  {
   "cell_type": "code",
   "execution_count": 317,
   "metadata": {},
   "outputs": [],
   "source": [
    "# Numerical Features"
   ]
  },
  {
   "cell_type": "code",
   "execution_count": 318,
   "metadata": {},
   "outputs": [
    {
     "data": {
      "text/html": [
       "<div>\n",
       "<style scoped>\n",
       "    .dataframe tbody tr th:only-of-type {\n",
       "        vertical-align: middle;\n",
       "    }\n",
       "\n",
       "    .dataframe tbody tr th {\n",
       "        vertical-align: top;\n",
       "    }\n",
       "\n",
       "    .dataframe thead th {\n",
       "        text-align: right;\n",
       "    }\n",
       "</style>\n",
       "<table border=\"1\" class=\"dataframe\">\n",
       "  <thead>\n",
       "    <tr style=\"text-align: right;\">\n",
       "      <th></th>\n",
       "      <th>customer_lifetime_value</th>\n",
       "      <th>income</th>\n",
       "      <th>monthly_premium_auto</th>\n",
       "      <th>months_since_last_claim</th>\n",
       "      <th>months_since_policy_inception</th>\n",
       "      <th>number_of_open_complaints</th>\n",
       "      <th>number_of_policies</th>\n",
       "      <th>total_claim_amount</th>\n",
       "      <th>vehicle_size</th>\n",
       "    </tr>\n",
       "    <tr>\n",
       "      <th>customer</th>\n",
       "      <th></th>\n",
       "      <th></th>\n",
       "      <th></th>\n",
       "      <th></th>\n",
       "      <th></th>\n",
       "      <th></th>\n",
       "      <th></th>\n",
       "      <th></th>\n",
       "      <th></th>\n",
       "    </tr>\n",
       "  </thead>\n",
       "  <tbody>\n",
       "    <tr>\n",
       "      <th>BU79786</th>\n",
       "      <td>2763.519279</td>\n",
       "      <td>56274</td>\n",
       "      <td>69</td>\n",
       "      <td>32</td>\n",
       "      <td>5</td>\n",
       "      <td>0</td>\n",
       "      <td>1</td>\n",
       "      <td>384.811147</td>\n",
       "      <td>2</td>\n",
       "    </tr>\n",
       "    <tr>\n",
       "      <th>QZ44356</th>\n",
       "      <td>6979.535903</td>\n",
       "      <td>0</td>\n",
       "      <td>94</td>\n",
       "      <td>13</td>\n",
       "      <td>42</td>\n",
       "      <td>0</td>\n",
       "      <td>8</td>\n",
       "      <td>1131.464935</td>\n",
       "      <td>2</td>\n",
       "    </tr>\n",
       "    <tr>\n",
       "      <th>AI49188</th>\n",
       "      <td>12887.431650</td>\n",
       "      <td>48767</td>\n",
       "      <td>108</td>\n",
       "      <td>18</td>\n",
       "      <td>38</td>\n",
       "      <td>0</td>\n",
       "      <td>2</td>\n",
       "      <td>566.472247</td>\n",
       "      <td>2</td>\n",
       "    </tr>\n",
       "    <tr>\n",
       "      <th>WW63253</th>\n",
       "      <td>7645.861827</td>\n",
       "      <td>0</td>\n",
       "      <td>106</td>\n",
       "      <td>18</td>\n",
       "      <td>65</td>\n",
       "      <td>0</td>\n",
       "      <td>7</td>\n",
       "      <td>529.881344</td>\n",
       "      <td>2</td>\n",
       "    </tr>\n",
       "    <tr>\n",
       "      <th>HB64268</th>\n",
       "      <td>2813.692575</td>\n",
       "      <td>43836</td>\n",
       "      <td>73</td>\n",
       "      <td>12</td>\n",
       "      <td>44</td>\n",
       "      <td>0</td>\n",
       "      <td>1</td>\n",
       "      <td>138.130879</td>\n",
       "      <td>2</td>\n",
       "    </tr>\n",
       "  </tbody>\n",
       "</table>\n",
       "</div>"
      ],
      "text/plain": [
       "          customer_lifetime_value  income  monthly_premium_auto  \\\n",
       "customer                                                          \n",
       "BU79786               2763.519279   56274                    69   \n",
       "QZ44356               6979.535903       0                    94   \n",
       "AI49188              12887.431650   48767                   108   \n",
       "WW63253               7645.861827       0                   106   \n",
       "HB64268               2813.692575   43836                    73   \n",
       "\n",
       "          months_since_last_claim  months_since_policy_inception  \\\n",
       "customer                                                           \n",
       "BU79786                        32                              5   \n",
       "QZ44356                        13                             42   \n",
       "AI49188                        18                             38   \n",
       "WW63253                        18                             65   \n",
       "HB64268                        12                             44   \n",
       "\n",
       "          number_of_open_complaints  number_of_policies  total_claim_amount  \\\n",
       "customer                                                                      \n",
       "BU79786                           0                   1          384.811147   \n",
       "QZ44356                           0                   8         1131.464935   \n",
       "AI49188                           0                   2          566.472247   \n",
       "WW63253                           0                   7          529.881344   \n",
       "HB64268                           0                   1          138.130879   \n",
       "\n",
       "          vehicle_size  \n",
       "customer                \n",
       "BU79786              2  \n",
       "QZ44356              2  \n",
       "AI49188              2  \n",
       "WW63253              2  \n",
       "HB64268              2  "
      ]
     },
     "execution_count": 318,
     "metadata": {},
     "output_type": "execute_result"
    }
   ],
   "source": [
    "df.select_dtypes(include=np.number).head()"
   ]
  },
  {
   "cell_type": "code",
   "execution_count": 319,
   "metadata": {},
   "outputs": [
    {
     "data": {
      "text/plain": [
       "1    3251\n",
       "2    2294\n",
       "3    1168\n",
       "7     433\n",
       "9     416\n",
       "4     409\n",
       "5     407\n",
       "8     384\n",
       "6     372\n",
       "Name: number_of_policies, dtype: int64"
      ]
     },
     "execution_count": 319,
     "metadata": {},
     "output_type": "execute_result"
    }
   ],
   "source": [
    "df['number_of_policies'].value_counts()"
   ]
  },
  {
   "cell_type": "code",
   "execution_count": 320,
   "metadata": {},
   "outputs": [],
   "source": [
    "# define datatypes into ordinal and continuous\n",
    "\n",
    "ordinal = ['number_of_open_complaints','number_of_policies','vehicle_size']\n",
    "continuous = ['customer_lifetime_value','income','monthly_premium_auto','months_since_last_claim',\n",
    "              'months_since_policy_inception','total_claim_amount'] "
   ]
  },
  {
   "cell_type": "code",
   "execution_count": 321,
   "metadata": {},
   "outputs": [],
   "source": [
    "# EDA"
   ]
  },
  {
   "cell_type": "code",
   "execution_count": 322,
   "metadata": {},
   "outputs": [
    {
     "data": {
      "text/html": [
       "<div>\n",
       "<style scoped>\n",
       "    .dataframe tbody tr th:only-of-type {\n",
       "        vertical-align: middle;\n",
       "    }\n",
       "\n",
       "    .dataframe tbody tr th {\n",
       "        vertical-align: top;\n",
       "    }\n",
       "\n",
       "    .dataframe thead th {\n",
       "        text-align: right;\n",
       "    }\n",
       "</style>\n",
       "<table border=\"1\" class=\"dataframe\">\n",
       "  <thead>\n",
       "    <tr style=\"text-align: right;\">\n",
       "      <th></th>\n",
       "      <th>customer_lifetime_value</th>\n",
       "      <th>income</th>\n",
       "      <th>monthly_premium_auto</th>\n",
       "      <th>months_since_last_claim</th>\n",
       "      <th>months_since_policy_inception</th>\n",
       "      <th>number_of_open_complaints</th>\n",
       "      <th>number_of_policies</th>\n",
       "      <th>total_claim_amount</th>\n",
       "      <th>vehicle_size</th>\n",
       "    </tr>\n",
       "  </thead>\n",
       "  <tbody>\n",
       "    <tr>\n",
       "      <th>count</th>\n",
       "      <td>9134.00</td>\n",
       "      <td>9134.00</td>\n",
       "      <td>9134.00</td>\n",
       "      <td>9134.00</td>\n",
       "      <td>9134.00</td>\n",
       "      <td>9134.00</td>\n",
       "      <td>9134.00</td>\n",
       "      <td>9134.00</td>\n",
       "      <td>9134.00</td>\n",
       "    </tr>\n",
       "    <tr>\n",
       "      <th>mean</th>\n",
       "      <td>8004.94</td>\n",
       "      <td>37657.38</td>\n",
       "      <td>93.22</td>\n",
       "      <td>15.10</td>\n",
       "      <td>48.06</td>\n",
       "      <td>0.38</td>\n",
       "      <td>2.97</td>\n",
       "      <td>434.09</td>\n",
       "      <td>1.91</td>\n",
       "    </tr>\n",
       "    <tr>\n",
       "      <th>std</th>\n",
       "      <td>6870.97</td>\n",
       "      <td>30379.90</td>\n",
       "      <td>34.41</td>\n",
       "      <td>10.07</td>\n",
       "      <td>27.91</td>\n",
       "      <td>0.91</td>\n",
       "      <td>2.39</td>\n",
       "      <td>290.50</td>\n",
       "      <td>0.54</td>\n",
       "    </tr>\n",
       "    <tr>\n",
       "      <th>min</th>\n",
       "      <td>1898.01</td>\n",
       "      <td>0.00</td>\n",
       "      <td>61.00</td>\n",
       "      <td>0.00</td>\n",
       "      <td>0.00</td>\n",
       "      <td>0.00</td>\n",
       "      <td>1.00</td>\n",
       "      <td>0.10</td>\n",
       "      <td>1.00</td>\n",
       "    </tr>\n",
       "    <tr>\n",
       "      <th>25%</th>\n",
       "      <td>3994.25</td>\n",
       "      <td>0.00</td>\n",
       "      <td>68.00</td>\n",
       "      <td>6.00</td>\n",
       "      <td>24.00</td>\n",
       "      <td>0.00</td>\n",
       "      <td>1.00</td>\n",
       "      <td>272.26</td>\n",
       "      <td>2.00</td>\n",
       "    </tr>\n",
       "    <tr>\n",
       "      <th>50%</th>\n",
       "      <td>5780.18</td>\n",
       "      <td>33889.50</td>\n",
       "      <td>83.00</td>\n",
       "      <td>14.00</td>\n",
       "      <td>48.00</td>\n",
       "      <td>0.00</td>\n",
       "      <td>2.00</td>\n",
       "      <td>383.95</td>\n",
       "      <td>2.00</td>\n",
       "    </tr>\n",
       "    <tr>\n",
       "      <th>75%</th>\n",
       "      <td>8962.17</td>\n",
       "      <td>62320.00</td>\n",
       "      <td>109.00</td>\n",
       "      <td>23.00</td>\n",
       "      <td>71.00</td>\n",
       "      <td>0.00</td>\n",
       "      <td>4.00</td>\n",
       "      <td>547.51</td>\n",
       "      <td>2.00</td>\n",
       "    </tr>\n",
       "    <tr>\n",
       "      <th>max</th>\n",
       "      <td>83325.38</td>\n",
       "      <td>99981.00</td>\n",
       "      <td>298.00</td>\n",
       "      <td>35.00</td>\n",
       "      <td>99.00</td>\n",
       "      <td>5.00</td>\n",
       "      <td>9.00</td>\n",
       "      <td>2893.24</td>\n",
       "      <td>3.00</td>\n",
       "    </tr>\n",
       "  </tbody>\n",
       "</table>\n",
       "</div>"
      ],
      "text/plain": [
       "       customer_lifetime_value    income  monthly_premium_auto  \\\n",
       "count                  9134.00   9134.00               9134.00   \n",
       "mean                   8004.94  37657.38                 93.22   \n",
       "std                    6870.97  30379.90                 34.41   \n",
       "min                    1898.01      0.00                 61.00   \n",
       "25%                    3994.25      0.00                 68.00   \n",
       "50%                    5780.18  33889.50                 83.00   \n",
       "75%                    8962.17  62320.00                109.00   \n",
       "max                   83325.38  99981.00                298.00   \n",
       "\n",
       "       months_since_last_claim  months_since_policy_inception  \\\n",
       "count                  9134.00                        9134.00   \n",
       "mean                     15.10                          48.06   \n",
       "std                      10.07                          27.91   \n",
       "min                       0.00                           0.00   \n",
       "25%                       6.00                          24.00   \n",
       "50%                      14.00                          48.00   \n",
       "75%                      23.00                          71.00   \n",
       "max                      35.00                          99.00   \n",
       "\n",
       "       number_of_open_complaints  number_of_policies  total_claim_amount  \\\n",
       "count                    9134.00             9134.00             9134.00   \n",
       "mean                        0.38                2.97              434.09   \n",
       "std                         0.91                2.39              290.50   \n",
       "min                         0.00                1.00                0.10   \n",
       "25%                         0.00                1.00              272.26   \n",
       "50%                         0.00                2.00              383.95   \n",
       "75%                         0.00                4.00              547.51   \n",
       "max                         5.00                9.00             2893.24   \n",
       "\n",
       "       vehicle_size  \n",
       "count       9134.00  \n",
       "mean           1.91  \n",
       "std            0.54  \n",
       "min            1.00  \n",
       "25%            2.00  \n",
       "50%            2.00  \n",
       "75%            2.00  \n",
       "max            3.00  "
      ]
     },
     "execution_count": 322,
     "metadata": {},
     "output_type": "execute_result"
    }
   ],
   "source": [
    "df.describe().apply(lambda x: round(x,2))"
   ]
  },
  {
   "cell_type": "code",
   "execution_count": 323,
   "metadata": {},
   "outputs": [
    {
     "data": {
      "image/png": "[encoded data removed]",
      "text/plain": [
       "<Figure size 432x288 with 1 Axes>"
      ]
     },
     "metadata": {
      "needs_background": "light"
     },
     "output_type": "display_data"
    },
    {
     "data": {
      "image/png": "[encoded data removed]",
      "text/plain": [
       "<Figure size 432x288 with 1 Axes>"
      ]
     },
     "metadata": {
      "needs_background": "light"
     },
     "output_type": "display_data"
    },
    {
     "data": {
      "image/png": "[encoded data removed]",
      "text/plain": [
       "<Figure size 432x288 with 1 Axes>"
      ]
     },
     "metadata": {
      "needs_background": "light"
     },
     "output_type": "display_data"
    },
    {
     "data": {
      "image/png": "[encoded data removed]",
      "text/plain": [
       "<Figure size 432x288 with 1 Axes>"
      ]
     },
     "metadata": {
      "needs_background": "light"
     },
     "output_type": "display_data"
    },
    {
     "data": {
      "image/png": "[encoded data removed]",
      "text/plain": [
       "<Figure size 432x288 with 1 Axes>"
      ]
     },
     "metadata": {
      "needs_background": "light"
     },
     "output_type": "display_data"
    },
    {
     "data": {
      "image/png": "[encoded data removed]",
      "text/plain": [
       "<Figure size 432x288 with 1 Axes>"
      ]
     },
     "metadata": {
      "needs_background": "light"
     },
     "output_type": "display_data"
    },
    {
     "data": {
      "image/png": "[encoded data removed]",
      "text/plain": [
       "<Figure size 432x288 with 1 Axes>"
      ]
     },
     "metadata": {
      "needs_background": "light"
     },
     "output_type": "display_data"
    },
    {
     "data": {
      "image/png": "[encoded data removed]",
      "text/plain": [
       "<Figure size 432x288 with 1 Axes>"
      ]
     },
     "metadata": {
      "needs_background": "light"
     },
     "output_type": "display_data"
    },
    {
     "data": {
      "image/png": "[encoded data removed]",
      "text/plain": [
       "<Figure size 432x288 with 1 Axes>"
      ]
     },
     "metadata": {
      "needs_background": "light"
     },
     "output_type": "display_data"
    }
   ],
   "source": [
    "for column in df.select_dtypes(np.number).columns:\n",
    "    sns.distplot(df[column])\n",
    "    plt.show()"
   ]
  },
  {
   "cell_type": "code",
   "execution_count": 324,
   "metadata": {},
   "outputs": [],
   "source": [
    "# could not find any normal distribution in the numerical columns"
   ]
  },
  {
   "cell_type": "code",
   "execution_count": 325,
   "metadata": {},
   "outputs": [
    {
     "data": {
      "image/png": "[encoded data removed]",
      "text/plain": [
       "<Figure size 720x576 with 2 Axes>"
      ]
     },
     "metadata": {
      "needs_background": "light"
     },
     "output_type": "display_data"
    }
   ],
   "source": [
    "mask = np.zeros_like(df.corr())\n",
    "\n",
    "mask[np.triu_indices_from(mask)] = True\n",
    "\n",
    "fig, ax = plt.subplots(figsize=(10, 8))\n",
    "ax = sns.heatmap(df.corr(), mask=mask, annot=True)\n",
    "plt.show()\n",
    "\n",
    "# there are no correlation which is higher than 0.9, thus it is not necessary to drop any column"
   ]
  },
  {
   "cell_type": "markdown",
   "metadata": {},
   "source": [
    "## 04 - Processing Data"
   ]
  },
  {
   "cell_type": "markdown",
   "metadata": {},
   "source": [
    "- Dealing with outliers.\n",
    "- Normalization.\n",
    "- Encoding Categorical Data.\n",
    "- Splitting into train set and test set."
   ]
  },
  {
   "cell_type": "code",
   "execution_count": 326,
   "metadata": {},
   "outputs": [
    {
     "data": {
      "text/plain": [
       "count     9134.000000\n",
       "mean      8004.940475\n",
       "std       6870.967608\n",
       "min       1898.007675\n",
       "25%       3994.251794\n",
       "50%       5780.182197\n",
       "75%       8962.167041\n",
       "max      83325.381190\n",
       "Name: customer_lifetime_value, dtype: float64"
      ]
     },
     "execution_count": 326,
     "metadata": {},
     "output_type": "execute_result"
    }
   ],
   "source": [
    "df['customer_lifetime_value'].describe()"
   ]
  },
  {
   "cell_type": "code",
   "execution_count": 327,
   "metadata": {},
   "outputs": [
    {
     "data": {
      "text/plain": [
       "count    9134.000000\n",
       "mean       93.219291\n",
       "std        34.407967\n",
       "min        61.000000\n",
       "25%        68.000000\n",
       "50%        83.000000\n",
       "75%       109.000000\n",
       "max       298.000000\n",
       "Name: monthly_premium_auto, dtype: float64"
      ]
     },
     "execution_count": 327,
     "metadata": {},
     "output_type": "execute_result"
    }
   ],
   "source": [
    "df['monthly_premium_auto'].describe()"
   ]
  },
  {
   "cell_type": "code",
   "execution_count": 328,
   "metadata": {},
   "outputs": [],
   "source": [
    "# I decided to deal the outliers of 'customer_life_value' and 'monthly_premium_auto'"
   ]
  },
  {
   "cell_type": "code",
   "execution_count": 329,
   "metadata": {},
   "outputs": [],
   "source": [
    "df1 = df.copy()"
   ]
  },
  {
   "cell_type": "code",
   "execution_count": 330,
   "metadata": {},
   "outputs": [],
   "source": [
    "def remove_outliers(df, threshold=1.5, in_columns=df.select_dtypes(np.number).columns, skip_columns=[]):\n",
    "    for column in in_columns:\n",
    "        if column not in skip_columns:\n",
    "            upper = np.percentile(df[column],75)\n",
    "            lower = np.percentile(df[column],25)\n",
    "            iqr = upper - lower\n",
    "            upper_limit = upper + (threshold * iqr)\n",
    "            lower_limit = lower - (threshold * iqr)\n",
    "            df = df[(df[column]>lower_limit) & (df[column]<upper_limit)]\n",
    "    return df"
   ]
  },
  {
   "cell_type": "code",
   "execution_count": 331,
   "metadata": {},
   "outputs": [
    {
     "name": "stdout",
     "output_type": "stream",
     "text": [
      "4967.915247000001 41.0\n"
     ]
    }
   ],
   "source": [
    "iqr1 = np.percentile(df1['customer_lifetime_value'],75) - np.percentile(df1['customer_lifetime_value'],25)\n",
    "iqr2 = np.percentile(df1['monthly_premium_auto'],75) - np.percentile(df1['monthly_premium_auto'],25)\n",
    "\n",
    "print(iqr1,iqr2)"
   ]
  },
  {
   "cell_type": "code",
   "execution_count": 332,
   "metadata": {},
   "outputs": [],
   "source": [
    "upper_limit1 = np.percentile(df1['customer_lifetime_value'],75) + 1.5*iqr1\n",
    "lower_limit1 = np.percentile(df1['customer_lifetime_value'],25) - 1.5*iqr1\n",
    "upper_limit2 = np.percentile(df1['monthly_premium_auto'],75) + 1.5*iqr2\n",
    "lower_limit2 = np.percentile(df1['monthly_premium_auto'],25) - 1.5*iqr2"
   ]
  },
  {
   "cell_type": "code",
   "execution_count": 333,
   "metadata": {},
   "outputs": [],
   "source": [
    "df1 = df1[(df1['customer_lifetime_value']>lower_limit1) & (df1['customer_lifetime_value']<upper_limit1)]\n",
    "df1 = df1[(df1['monthly_premium_auto']>lower_limit2) & (df1['monthly_premium_auto']<upper_limit2)]"
   ]
  },
  {
   "cell_type": "code",
   "execution_count": 334,
   "metadata": {},
   "outputs": [
    {
     "data": {
      "image/png": "[encoded data removed]",
      "text/plain": [
       "<Figure size 432x288 with 1 Axes>"
      ]
     },
     "metadata": {
      "needs_background": "light"
     },
     "output_type": "display_data"
    }
   ],
   "source": [
    "sns.distplot(df1['customer_lifetime_value'])\n",
    "plt.show()"
   ]
  },
  {
   "cell_type": "code",
   "execution_count": 335,
   "metadata": {},
   "outputs": [
    {
     "data": {
      "image/png": "[encoded data removed]",
      "text/plain": [
       "<Figure size 432x288 with 1 Axes>"
      ]
     },
     "metadata": {
      "needs_background": "light"
     },
     "output_type": "display_data"
    }
   ],
   "source": [
    "sns.distplot(df1['monthly_premium_auto'])\n",
    "plt.show()"
   ]
  },
  {
   "cell_type": "code",
   "execution_count": 336,
   "metadata": {},
   "outputs": [],
   "source": [
    "# Normalization"
   ]
  },
  {
   "cell_type": "code",
   "execution_count": 337,
   "metadata": {},
   "outputs": [],
   "source": [
    "def boxcox_transform(df):\n",
    "    numeric_cols = df1.select_dtypes(np.number).columns\n",
    "    _ci = {column: None for column in numeric_cols}\n",
    "    for column in numeric_cols:\n",
    "        # since i know any columns should take negative numbers, to avoid -inf in df\n",
    "        df1[column] = np.where(df1[column]<=0, np.NAN, df[column]) \n",
    "        df1[column] = df1[column].fillna(df1[column].mean())\n",
    "        transformed_data, ci = stats.boxcox(df1[column])\n",
    "        df1[column] = transformed_data\n",
    "        _ci[column] = [ci] \n",
    "    return df1, _ci"
   ]
  },
  {
   "cell_type": "code",
   "execution_count": 338,
   "metadata": {},
   "outputs": [
    {
     "data": {
      "text/html": [
       "<div>\n",
       "<style scoped>\n",
       "    .dataframe tbody tr th:only-of-type {\n",
       "        vertical-align: middle;\n",
       "    }\n",
       "\n",
       "    .dataframe tbody tr th {\n",
       "        vertical-align: top;\n",
       "    }\n",
       "\n",
       "    .dataframe thead th {\n",
       "        text-align: right;\n",
       "    }\n",
       "</style>\n",
       "<table border=\"1\" class=\"dataframe\">\n",
       "  <thead>\n",
       "    <tr style=\"text-align: right;\">\n",
       "      <th></th>\n",
       "      <th>state</th>\n",
       "      <th>customer_lifetime_value</th>\n",
       "      <th>response</th>\n",
       "      <th>coverage</th>\n",
       "      <th>education</th>\n",
       "      <th>effective_to_date</th>\n",
       "      <th>employmentstatus</th>\n",
       "      <th>gender</th>\n",
       "      <th>income</th>\n",
       "      <th>location_code</th>\n",
       "      <th>marital_status</th>\n",
       "      <th>monthly_premium_auto</th>\n",
       "      <th>months_since_last_claim</th>\n",
       "      <th>months_since_policy_inception</th>\n",
       "      <th>number_of_open_complaints</th>\n",
       "      <th>number_of_policies</th>\n",
       "      <th>policy_type</th>\n",
       "      <th>policy</th>\n",
       "      <th>renew_offer_type</th>\n",
       "      <th>sales_channel</th>\n",
       "      <th>total_claim_amount</th>\n",
       "      <th>vehicle_class</th>\n",
       "      <th>vehicle_size</th>\n",
       "    </tr>\n",
       "    <tr>\n",
       "      <th>customer</th>\n",
       "      <th></th>\n",
       "      <th></th>\n",
       "      <th></th>\n",
       "      <th></th>\n",
       "      <th></th>\n",
       "      <th></th>\n",
       "      <th></th>\n",
       "      <th></th>\n",
       "      <th></th>\n",
       "      <th></th>\n",
       "      <th></th>\n",
       "      <th></th>\n",
       "      <th></th>\n",
       "      <th></th>\n",
       "      <th></th>\n",
       "      <th></th>\n",
       "      <th></th>\n",
       "      <th></th>\n",
       "      <th></th>\n",
       "      <th></th>\n",
       "      <th></th>\n",
       "      <th></th>\n",
       "      <th></th>\n",
       "    </tr>\n",
       "  </thead>\n",
       "  <tbody>\n",
       "    <tr>\n",
       "      <th>BU79786</th>\n",
       "      <td>Washington</td>\n",
       "      <td>7.006242</td>\n",
       "      <td>No</td>\n",
       "      <td>Basic</td>\n",
       "      <td>Bachelor</td>\n",
       "      <td>2011-02-24</td>\n",
       "      <td>Employed</td>\n",
       "      <td>F</td>\n",
       "      <td>1201.691030</td>\n",
       "      <td>Suburban</td>\n",
       "      <td>Married</td>\n",
       "      <td>0.781334</td>\n",
       "      <td>10.782054</td>\n",
       "      <td>3.008013</td>\n",
       "      <td>0.672603</td>\n",
       "      <td>0.000000</td>\n",
       "      <td>Corporate Auto</td>\n",
       "      <td>Corporate L3</td>\n",
       "      <td>Offer1</td>\n",
       "      <td>Agent</td>\n",
       "      <td>58.200363</td>\n",
       "      <td>Two-Door Car</td>\n",
       "      <td>1.027349</td>\n",
       "    </tr>\n",
       "    <tr>\n",
       "      <th>QZ44356</th>\n",
       "      <td>Arizona</td>\n",
       "      <td>7.716195</td>\n",
       "      <td>No</td>\n",
       "      <td>Extended</td>\n",
       "      <td>Bachelor</td>\n",
       "      <td>2011-01-31</td>\n",
       "      <td>Unemployed</td>\n",
       "      <td>F</td>\n",
       "      <td>1126.068191</td>\n",
       "      <td>Suburban</td>\n",
       "      <td>Single</td>\n",
       "      <td>0.782494</td>\n",
       "      <td>5.773149</td>\n",
       "      <td>18.612689</td>\n",
       "      <td>0.672603</td>\n",
       "      <td>1.461512</td>\n",
       "      <td>Personal Auto</td>\n",
       "      <td>Personal L3</td>\n",
       "      <td>Offer3</td>\n",
       "      <td>Agent</td>\n",
       "      <td>112.949234</td>\n",
       "      <td>Four-Door Car</td>\n",
       "      <td>1.027349</td>\n",
       "    </tr>\n",
       "    <tr>\n",
       "      <th>AI49188</th>\n",
       "      <td>Nevada</td>\n",
       "      <td>8.174785</td>\n",
       "      <td>No</td>\n",
       "      <td>Premium</td>\n",
       "      <td>Bachelor</td>\n",
       "      <td>2011-02-19</td>\n",
       "      <td>Employed</td>\n",
       "      <td>F</td>\n",
       "      <td>1102.302199</td>\n",
       "      <td>Suburban</td>\n",
       "      <td>Married</td>\n",
       "      <td>0.782884</td>\n",
       "      <td>7.296692</td>\n",
       "      <td>17.238979</td>\n",
       "      <td>0.672603</td>\n",
       "      <td>0.613081</td>\n",
       "      <td>Personal Auto</td>\n",
       "      <td>Personal L3</td>\n",
       "      <td>Offer1</td>\n",
       "      <td>Agent</td>\n",
       "      <td>73.896606</td>\n",
       "      <td>Two-Door Car</td>\n",
       "      <td>1.027349</td>\n",
       "    </tr>\n",
       "    <tr>\n",
       "      <th>WW63253</th>\n",
       "      <td>California</td>\n",
       "      <td>7.784945</td>\n",
       "      <td>No</td>\n",
       "      <td>Basic</td>\n",
       "      <td>Bachelor</td>\n",
       "      <td>2011-01-20</td>\n",
       "      <td>Unemployed</td>\n",
       "      <td>M</td>\n",
       "      <td>1126.068191</td>\n",
       "      <td>Suburban</td>\n",
       "      <td>Married</td>\n",
       "      <td>0.782836</td>\n",
       "      <td>7.296692</td>\n",
       "      <td>25.893323</td>\n",
       "      <td>0.672603</td>\n",
       "      <td>1.397029</td>\n",
       "      <td>Corporate Auto</td>\n",
       "      <td>Corporate L2</td>\n",
       "      <td>Offer1</td>\n",
       "      <td>Call Center</td>\n",
       "      <td>70.918465</td>\n",
       "      <td>SUV</td>\n",
       "      <td>1.027349</td>\n",
       "    </tr>\n",
       "    <tr>\n",
       "      <th>HB64268</th>\n",
       "      <td>Washington</td>\n",
       "      <td>7.020230</td>\n",
       "      <td>No</td>\n",
       "      <td>Basic</td>\n",
       "      <td>Bachelor</td>\n",
       "      <td>2011-02-03</td>\n",
       "      <td>Employed</td>\n",
       "      <td>M</td>\n",
       "      <td>1033.675306</td>\n",
       "      <td>Rural</td>\n",
       "      <td>Single</td>\n",
       "      <td>0.781581</td>\n",
       "      <td>5.439438</td>\n",
       "      <td>19.285218</td>\n",
       "      <td>0.672603</td>\n",
       "      <td>0.000000</td>\n",
       "      <td>Personal Auto</td>\n",
       "      <td>Personal L1</td>\n",
       "      <td>Offer1</td>\n",
       "      <td>Agent</td>\n",
       "      <td>30.637715</td>\n",
       "      <td>Four-Door Car</td>\n",
       "      <td>1.027349</td>\n",
       "    </tr>\n",
       "    <tr>\n",
       "      <th>...</th>\n",
       "      <td>...</td>\n",
       "      <td>...</td>\n",
       "      <td>...</td>\n",
       "      <td>...</td>\n",
       "      <td>...</td>\n",
       "      <td>...</td>\n",
       "      <td>...</td>\n",
       "      <td>...</td>\n",
       "      <td>...</td>\n",
       "      <td>...</td>\n",
       "      <td>...</td>\n",
       "      <td>...</td>\n",
       "      <td>...</td>\n",
       "      <td>...</td>\n",
       "      <td>...</td>\n",
       "      <td>...</td>\n",
       "      <td>...</td>\n",
       "      <td>...</td>\n",
       "      <td>...</td>\n",
       "      <td>...</td>\n",
       "      <td>...</td>\n",
       "      <td>...</td>\n",
       "      <td>...</td>\n",
       "    </tr>\n",
       "    <tr>\n",
       "      <th>YM19146</th>\n",
       "      <td>California</td>\n",
       "      <td>7.311160</td>\n",
       "      <td>No</td>\n",
       "      <td>Premium</td>\n",
       "      <td>College</td>\n",
       "      <td>2011-01-06</td>\n",
       "      <td>Employed</td>\n",
       "      <td>F</td>\n",
       "      <td>1088.534114</td>\n",
       "      <td>Suburban</td>\n",
       "      <td>Single</td>\n",
       "      <td>0.782785</td>\n",
       "      <td>6.712640</td>\n",
       "      <td>23.770962</td>\n",
       "      <td>0.672603</td>\n",
       "      <td>0.000000</td>\n",
       "      <td>Personal Auto</td>\n",
       "      <td>Personal L2</td>\n",
       "      <td>Offer1</td>\n",
       "      <td>Branch</td>\n",
       "      <td>71.854900</td>\n",
       "      <td>Four-Door Car</td>\n",
       "      <td>2.092737</td>\n",
       "    </tr>\n",
       "    <tr>\n",
       "      <th>PK87824</th>\n",
       "      <td>California</td>\n",
       "      <td>7.094553</td>\n",
       "      <td>Yes</td>\n",
       "      <td>Extended</td>\n",
       "      <td>College</td>\n",
       "      <td>2011-02-12</td>\n",
       "      <td>Employed</td>\n",
       "      <td>F</td>\n",
       "      <td>674.524168</td>\n",
       "      <td>Suburban</td>\n",
       "      <td>Divorced</td>\n",
       "      <td>0.781898</td>\n",
       "      <td>6.095876</td>\n",
       "      <td>13.603156</td>\n",
       "      <td>0.672603</td>\n",
       "      <td>0.000000</td>\n",
       "      <td>Corporate Auto</td>\n",
       "      <td>Corporate L3</td>\n",
       "      <td>Offer1</td>\n",
       "      <td>Branch</td>\n",
       "      <td>57.673166</td>\n",
       "      <td>Four-Door Car</td>\n",
       "      <td>1.027349</td>\n",
       "    </tr>\n",
       "    <tr>\n",
       "      <th>TD14365</th>\n",
       "      <td>California</td>\n",
       "      <td>7.834251</td>\n",
       "      <td>No</td>\n",
       "      <td>Extended</td>\n",
       "      <td>Bachelor</td>\n",
       "      <td>2011-02-06</td>\n",
       "      <td>Unemployed</td>\n",
       "      <td>M</td>\n",
       "      <td>1126.068191</td>\n",
       "      <td>Suburban</td>\n",
       "      <td>Single</td>\n",
       "      <td>0.782166</td>\n",
       "      <td>4.357368</td>\n",
       "      <td>16.889119</td>\n",
       "      <td>1.202650</td>\n",
       "      <td>0.613081</td>\n",
       "      <td>Corporate Auto</td>\n",
       "      <td>Corporate L2</td>\n",
       "      <td>Offer1</td>\n",
       "      <td>Branch</td>\n",
       "      <td>90.708370</td>\n",
       "      <td>Four-Door Car</td>\n",
       "      <td>1.027349</td>\n",
       "    </tr>\n",
       "    <tr>\n",
       "      <th>UP19263</th>\n",
       "      <td>California</td>\n",
       "      <td>7.772890</td>\n",
       "      <td>No</td>\n",
       "      <td>Extended</td>\n",
       "      <td>College</td>\n",
       "      <td>2011-02-03</td>\n",
       "      <td>Employed</td>\n",
       "      <td>M</td>\n",
       "      <td>680.855164</td>\n",
       "      <td>Suburban</td>\n",
       "      <td>Married</td>\n",
       "      <td>0.782558</td>\n",
       "      <td>11.219725</td>\n",
       "      <td>1.664326</td>\n",
       "      <td>0.672603</td>\n",
       "      <td>0.906578</td>\n",
       "      <td>Personal Auto</td>\n",
       "      <td>Personal L2</td>\n",
       "      <td>Offer3</td>\n",
       "      <td>Branch</td>\n",
       "      <td>83.516575</td>\n",
       "      <td>Four-Door Car</td>\n",
       "      <td>2.092737</td>\n",
       "    </tr>\n",
       "    <tr>\n",
       "      <th>Y167826</th>\n",
       "      <td>California</td>\n",
       "      <td>6.962306</td>\n",
       "      <td>No</td>\n",
       "      <td>Extended</td>\n",
       "      <td>College</td>\n",
       "      <td>2011-02-14</td>\n",
       "      <td>Unemployed</td>\n",
       "      <td>M</td>\n",
       "      <td>1126.068191</td>\n",
       "      <td>Suburban</td>\n",
       "      <td>Single</td>\n",
       "      <td>0.781799</td>\n",
       "      <td>1.522966</td>\n",
       "      <td>32.992089</td>\n",
       "      <td>0.672603</td>\n",
       "      <td>0.000000</td>\n",
       "      <td>Corporate Auto</td>\n",
       "      <td>Corporate L3</td>\n",
       "      <td>Offer4</td>\n",
       "      <td>Call Center</td>\n",
       "      <td>56.763943</td>\n",
       "      <td>Two-Door Car</td>\n",
       "      <td>1.027349</td>\n",
       "    </tr>\n",
       "  </tbody>\n",
       "</table>\n",
       "<p>8033 rows × 23 columns</p>\n",
       "</div>"
      ],
      "text/plain": [
       "               state  customer_lifetime_value response  coverage education  \\\n",
       "customer                                                                     \n",
       "BU79786   Washington                 7.006242       No     Basic  Bachelor   \n",
       "QZ44356      Arizona                 7.716195       No  Extended  Bachelor   \n",
       "AI49188       Nevada                 8.174785       No   Premium  Bachelor   \n",
       "WW63253   California                 7.784945       No     Basic  Bachelor   \n",
       "HB64268   Washington                 7.020230       No     Basic  Bachelor   \n",
       "...              ...                      ...      ...       ...       ...   \n",
       "YM19146   California                 7.311160       No   Premium   College   \n",
       "PK87824   California                 7.094553      Yes  Extended   College   \n",
       "TD14365   California                 7.834251       No  Extended  Bachelor   \n",
       "UP19263   California                 7.772890       No  Extended   College   \n",
       "Y167826   California                 6.962306       No  Extended   College   \n",
       "\n",
       "         effective_to_date employmentstatus gender       income location_code  \\\n",
       "customer                                                                        \n",
       "BU79786         2011-02-24         Employed      F  1201.691030      Suburban   \n",
       "QZ44356         2011-01-31       Unemployed      F  1126.068191      Suburban   \n",
       "AI49188         2011-02-19         Employed      F  1102.302199      Suburban   \n",
       "WW63253         2011-01-20       Unemployed      M  1126.068191      Suburban   \n",
       "HB64268         2011-02-03         Employed      M  1033.675306         Rural   \n",
       "...                    ...              ...    ...          ...           ...   \n",
       "YM19146         2011-01-06         Employed      F  1088.534114      Suburban   \n",
       "PK87824         2011-02-12         Employed      F   674.524168      Suburban   \n",
       "TD14365         2011-02-06       Unemployed      M  1126.068191      Suburban   \n",
       "UP19263         2011-02-03         Employed      M   680.855164      Suburban   \n",
       "Y167826         2011-02-14       Unemployed      M  1126.068191      Suburban   \n",
       "\n",
       "         marital_status  monthly_premium_auto  months_since_last_claim  \\\n",
       "customer                                                                 \n",
       "BU79786         Married              0.781334                10.782054   \n",
       "QZ44356          Single              0.782494                 5.773149   \n",
       "AI49188         Married              0.782884                 7.296692   \n",
       "WW63253         Married              0.782836                 7.296692   \n",
       "HB64268          Single              0.781581                 5.439438   \n",
       "...                 ...                   ...                      ...   \n",
       "YM19146          Single              0.782785                 6.712640   \n",
       "PK87824        Divorced              0.781898                 6.095876   \n",
       "TD14365          Single              0.782166                 4.357368   \n",
       "UP19263         Married              0.782558                11.219725   \n",
       "Y167826          Single              0.781799                 1.522966   \n",
       "\n",
       "          months_since_policy_inception  number_of_open_complaints  \\\n",
       "customer                                                             \n",
       "BU79786                        3.008013                   0.672603   \n",
       "QZ44356                       18.612689                   0.672603   \n",
       "AI49188                       17.238979                   0.672603   \n",
       "WW63253                       25.893323                   0.672603   \n",
       "HB64268                       19.285218                   0.672603   \n",
       "...                                 ...                        ...   \n",
       "YM19146                       23.770962                   0.672603   \n",
       "PK87824                       13.603156                   0.672603   \n",
       "TD14365                       16.889119                   1.202650   \n",
       "UP19263                        1.664326                   0.672603   \n",
       "Y167826                       32.992089                   0.672603   \n",
       "\n",
       "          number_of_policies     policy_type        policy renew_offer_type  \\\n",
       "customer                                                                      \n",
       "BU79786             0.000000  Corporate Auto  Corporate L3           Offer1   \n",
       "QZ44356             1.461512   Personal Auto   Personal L3           Offer3   \n",
       "AI49188             0.613081   Personal Auto   Personal L3           Offer1   \n",
       "WW63253             1.397029  Corporate Auto  Corporate L2           Offer1   \n",
       "HB64268             0.000000   Personal Auto   Personal L1           Offer1   \n",
       "...                      ...             ...           ...              ...   \n",
       "YM19146             0.000000   Personal Auto   Personal L2           Offer1   \n",
       "PK87824             0.000000  Corporate Auto  Corporate L3           Offer1   \n",
       "TD14365             0.613081  Corporate Auto  Corporate L2           Offer1   \n",
       "UP19263             0.906578   Personal Auto   Personal L2           Offer3   \n",
       "Y167826             0.000000  Corporate Auto  Corporate L3           Offer4   \n",
       "\n",
       "         sales_channel  total_claim_amount  vehicle_class  vehicle_size  \n",
       "customer                                                                 \n",
       "BU79786          Agent           58.200363   Two-Door Car      1.027349  \n",
       "QZ44356          Agent          112.949234  Four-Door Car      1.027349  \n",
       "AI49188          Agent           73.896606   Two-Door Car      1.027349  \n",
       "WW63253    Call Center           70.918465            SUV      1.027349  \n",
       "HB64268          Agent           30.637715  Four-Door Car      1.027349  \n",
       "...                ...                 ...            ...           ...  \n",
       "YM19146         Branch           71.854900  Four-Door Car      2.092737  \n",
       "PK87824         Branch           57.673166  Four-Door Car      1.027349  \n",
       "TD14365         Branch           90.708370  Four-Door Car      1.027349  \n",
       "UP19263         Branch           83.516575  Four-Door Car      2.092737  \n",
       "Y167826    Call Center           56.763943   Two-Door Car      1.027349  \n",
       "\n",
       "[8033 rows x 23 columns]"
      ]
     },
     "execution_count": 338,
     "metadata": {},
     "output_type": "execute_result"
    }
   ],
   "source": [
    "df1, _ci = boxcox_transform(df1)\n",
    "df1"
   ]
  },
  {
   "cell_type": "code",
   "execution_count": 339,
   "metadata": {},
   "outputs": [
    {
     "data": {
      "text/plain": [
       "{'customer_lifetime_value': [-0.031741025070620106],\n",
       " 'income': [0.6020754220691583],\n",
       " 'monthly_premium_auto': [-1.274049999180181],\n",
       " 'months_since_last_claim': [0.5654147042492192],\n",
       " 'months_since_policy_inception': [0.7102277020341308],\n",
       " 'number_of_open_complaints': [0.1623056455486085],\n",
       " 'number_of_policies': [-0.3617237703537733],\n",
       " 'total_claim_amount': [0.6022255589126246],\n",
       " 'vehicle_size': [1.0696020598254756]}"
      ]
     },
     "execution_count": 339,
     "metadata": {},
     "output_type": "execute_result"
    }
   ],
   "source": [
    "_ci"
   ]
  },
  {
   "cell_type": "code",
   "execution_count": 359,
   "metadata": {},
   "outputs": [
    {
     "data": {
      "image/png": "[encoded data removed]",
      "text/plain": [
       "<Figure size 432x288 with 1 Axes>"
      ]
     },
     "metadata": {
      "needs_background": "light"
     },
     "output_type": "display_data"
    },
    {
     "data": {
      "image/png": "[encoded data removed]",
      "text/plain": [
       "<Figure size 432x288 with 1 Axes>"
      ]
     },
     "metadata": {
      "needs_background": "light"
     },
     "output_type": "display_data"
    },
    {
     "data": {
      "image/png": "[encoded data removed]",
      "text/plain": [
       "<Figure size 432x288 with 1 Axes>"
      ]
     },
     "metadata": {
      "needs_background": "light"
     },
     "output_type": "display_data"
    },
    {
     "data": {
      "image/png": "[encoded data removed]",
      "text/plain": [
       "<Figure size 432x288 with 1 Axes>"
      ]
     },
     "metadata": {
      "needs_background": "light"
     },
     "output_type": "display_data"
    },
    {
     "data": {
      "image/png": "[encoded data removed]",
      "text/plain": [
       "<Figure size 432x288 with 1 Axes>"
      ]
     },
     "metadata": {
      "needs_background": "light"
     },
     "output_type": "display_data"
    },
    {
     "data": {
      "image/png": "[encoded data removed]",
      "text/plain": [
       "<Figure size 432x288 with 1 Axes>"
      ]
     },
     "metadata": {
      "needs_background": "light"
     },
     "output_type": "display_data"
    },
    {
     "data": {
      "image/png": "[encoded data removed]",
      "text/plain": [
       "<Figure size 432x288 with 1 Axes>"
      ]
     },
     "metadata": {
      "needs_background": "light"
     },
     "output_type": "display_data"
    },
    {
     "data": {
      "image/png": "[encoded data removed]",
      "text/plain": [
       "<Figure size 432x288 with 1 Axes>"
      ]
     },
     "metadata": {
      "needs_background": "light"
     },
     "output_type": "display_data"
    },
    {
     "data": {
      "image/png": "[encoded data removed]",
      "text/plain": [
       "<Figure size 432x288 with 1 Axes>"
      ]
     },
     "metadata": {
      "needs_background": "light"
     },
     "output_type": "display_data"
    }
   ],
   "source": [
    "for column in df1.select_dtypes(np.number).columns:\n",
    "    sns.distplot(df1[column])\n",
    "    plt.show()"
   ]
  },
  {
   "cell_type": "code",
   "execution_count": 340,
   "metadata": {},
   "outputs": [
    {
     "data": {
      "text/html": [
       "<div>\n",
       "<style scoped>\n",
       "    .dataframe tbody tr th:only-of-type {\n",
       "        vertical-align: middle;\n",
       "    }\n",
       "\n",
       "    .dataframe tbody tr th {\n",
       "        vertical-align: top;\n",
       "    }\n",
       "\n",
       "    .dataframe thead th {\n",
       "        text-align: right;\n",
       "    }\n",
       "</style>\n",
       "<table border=\"1\" class=\"dataframe\">\n",
       "  <thead>\n",
       "    <tr style=\"text-align: right;\">\n",
       "      <th></th>\n",
       "      <th>customer_lifetime_value</th>\n",
       "      <th>effective_to_date</th>\n",
       "      <th>income</th>\n",
       "      <th>monthly_premium_auto</th>\n",
       "      <th>months_since_last_claim</th>\n",
       "      <th>months_since_policy_inception</th>\n",
       "      <th>number_of_open_complaints</th>\n",
       "      <th>number_of_policies</th>\n",
       "      <th>total_claim_amount</th>\n",
       "      <th>vehicle_size</th>\n",
       "      <th>state_California</th>\n",
       "      <th>state_Nevada</th>\n",
       "      <th>state_Oregon</th>\n",
       "      <th>state_Washington</th>\n",
       "      <th>response_Yes</th>\n",
       "      <th>coverage_Extended</th>\n",
       "      <th>coverage_Premium</th>\n",
       "      <th>education_College</th>\n",
       "      <th>education_Doctor</th>\n",
       "      <th>education_High School or Below</th>\n",
       "      <th>education_Master</th>\n",
       "      <th>employmentstatus_Employed</th>\n",
       "      <th>employmentstatus_Medical Leave</th>\n",
       "      <th>employmentstatus_Retired</th>\n",
       "      <th>employmentstatus_Unemployed</th>\n",
       "      <th>gender_M</th>\n",
       "      <th>location_code_Suburban</th>\n",
       "      <th>location_code_Urban</th>\n",
       "      <th>marital_status_Married</th>\n",
       "      <th>marital_status_Single</th>\n",
       "      <th>policy_type_Personal Auto</th>\n",
       "      <th>policy_type_Special Auto</th>\n",
       "      <th>policy_Corporate L2</th>\n",
       "      <th>policy_Corporate L3</th>\n",
       "      <th>policy_Personal L1</th>\n",
       "      <th>policy_Personal L2</th>\n",
       "      <th>policy_Personal L3</th>\n",
       "      <th>policy_Special L1</th>\n",
       "      <th>policy_Special L2</th>\n",
       "      <th>policy_Special L3</th>\n",
       "      <th>renew_offer_type_Offer2</th>\n",
       "      <th>renew_offer_type_Offer3</th>\n",
       "      <th>renew_offer_type_Offer4</th>\n",
       "      <th>sales_channel_Branch</th>\n",
       "      <th>sales_channel_Call Center</th>\n",
       "      <th>sales_channel_Web</th>\n",
       "      <th>vehicle_class_SUV</th>\n",
       "      <th>vehicle_class_Sports Car</th>\n",
       "      <th>vehicle_class_Two-Door Car</th>\n",
       "    </tr>\n",
       "    <tr>\n",
       "      <th>customer</th>\n",
       "      <th></th>\n",
       "      <th></th>\n",
       "      <th></th>\n",
       "      <th></th>\n",
       "      <th></th>\n",
       "      <th></th>\n",
       "      <th></th>\n",
       "      <th></th>\n",
       "      <th></th>\n",
       "      <th></th>\n",
       "      <th></th>\n",
       "      <th></th>\n",
       "      <th></th>\n",
       "      <th></th>\n",
       "      <th></th>\n",
       "      <th></th>\n",
       "      <th></th>\n",
       "      <th></th>\n",
       "      <th></th>\n",
       "      <th></th>\n",
       "      <th></th>\n",
       "      <th></th>\n",
       "      <th></th>\n",
       "      <th></th>\n",
       "      <th></th>\n",
       "      <th></th>\n",
       "      <th></th>\n",
       "      <th></th>\n",
       "      <th></th>\n",
       "      <th></th>\n",
       "      <th></th>\n",
       "      <th></th>\n",
       "      <th></th>\n",
       "      <th></th>\n",
       "      <th></th>\n",
       "      <th></th>\n",
       "      <th></th>\n",
       "      <th></th>\n",
       "      <th></th>\n",
       "      <th></th>\n",
       "      <th></th>\n",
       "      <th></th>\n",
       "      <th></th>\n",
       "      <th></th>\n",
       "      <th></th>\n",
       "      <th></th>\n",
       "      <th></th>\n",
       "      <th></th>\n",
       "      <th></th>\n",
       "    </tr>\n",
       "  </thead>\n",
       "  <tbody>\n",
       "    <tr>\n",
       "      <th>BU79786</th>\n",
       "      <td>7.006242</td>\n",
       "      <td>2011-02-24</td>\n",
       "      <td>1201.691030</td>\n",
       "      <td>0.781334</td>\n",
       "      <td>10.782054</td>\n",
       "      <td>3.008013</td>\n",
       "      <td>0.672603</td>\n",
       "      <td>0.000000</td>\n",
       "      <td>58.200363</td>\n",
       "      <td>1.027349</td>\n",
       "      <td>0</td>\n",
       "      <td>0</td>\n",
       "      <td>0</td>\n",
       "      <td>1</td>\n",
       "      <td>0</td>\n",
       "      <td>0</td>\n",
       "      <td>0</td>\n",
       "      <td>0</td>\n",
       "      <td>0</td>\n",
       "      <td>0</td>\n",
       "      <td>0</td>\n",
       "      <td>1</td>\n",
       "      <td>0</td>\n",
       "      <td>0</td>\n",
       "      <td>0</td>\n",
       "      <td>0</td>\n",
       "      <td>1</td>\n",
       "      <td>0</td>\n",
       "      <td>1</td>\n",
       "      <td>0</td>\n",
       "      <td>0</td>\n",
       "      <td>0</td>\n",
       "      <td>0</td>\n",
       "      <td>1</td>\n",
       "      <td>0</td>\n",
       "      <td>0</td>\n",
       "      <td>0</td>\n",
       "      <td>0</td>\n",
       "      <td>0</td>\n",
       "      <td>0</td>\n",
       "      <td>0</td>\n",
       "      <td>0</td>\n",
       "      <td>0</td>\n",
       "      <td>0</td>\n",
       "      <td>0</td>\n",
       "      <td>0</td>\n",
       "      <td>0</td>\n",
       "      <td>0</td>\n",
       "      <td>1</td>\n",
       "    </tr>\n",
       "    <tr>\n",
       "      <th>QZ44356</th>\n",
       "      <td>7.716195</td>\n",
       "      <td>2011-01-31</td>\n",
       "      <td>1126.068191</td>\n",
       "      <td>0.782494</td>\n",
       "      <td>5.773149</td>\n",
       "      <td>18.612689</td>\n",
       "      <td>0.672603</td>\n",
       "      <td>1.461512</td>\n",
       "      <td>112.949234</td>\n",
       "      <td>1.027349</td>\n",
       "      <td>0</td>\n",
       "      <td>0</td>\n",
       "      <td>0</td>\n",
       "      <td>0</td>\n",
       "      <td>0</td>\n",
       "      <td>1</td>\n",
       "      <td>0</td>\n",
       "      <td>0</td>\n",
       "      <td>0</td>\n",
       "      <td>0</td>\n",
       "      <td>0</td>\n",
       "      <td>0</td>\n",
       "      <td>0</td>\n",
       "      <td>0</td>\n",
       "      <td>1</td>\n",
       "      <td>0</td>\n",
       "      <td>1</td>\n",
       "      <td>0</td>\n",
       "      <td>0</td>\n",
       "      <td>1</td>\n",
       "      <td>1</td>\n",
       "      <td>0</td>\n",
       "      <td>0</td>\n",
       "      <td>0</td>\n",
       "      <td>0</td>\n",
       "      <td>0</td>\n",
       "      <td>1</td>\n",
       "      <td>0</td>\n",
       "      <td>0</td>\n",
       "      <td>0</td>\n",
       "      <td>0</td>\n",
       "      <td>1</td>\n",
       "      <td>0</td>\n",
       "      <td>0</td>\n",
       "      <td>0</td>\n",
       "      <td>0</td>\n",
       "      <td>0</td>\n",
       "      <td>0</td>\n",
       "      <td>0</td>\n",
       "    </tr>\n",
       "    <tr>\n",
       "      <th>AI49188</th>\n",
       "      <td>8.174785</td>\n",
       "      <td>2011-02-19</td>\n",
       "      <td>1102.302199</td>\n",
       "      <td>0.782884</td>\n",
       "      <td>7.296692</td>\n",
       "      <td>17.238979</td>\n",
       "      <td>0.672603</td>\n",
       "      <td>0.613081</td>\n",
       "      <td>73.896606</td>\n",
       "      <td>1.027349</td>\n",
       "      <td>0</td>\n",
       "      <td>1</td>\n",
       "      <td>0</td>\n",
       "      <td>0</td>\n",
       "      <td>0</td>\n",
       "      <td>0</td>\n",
       "      <td>1</td>\n",
       "      <td>0</td>\n",
       "      <td>0</td>\n",
       "      <td>0</td>\n",
       "      <td>0</td>\n",
       "      <td>1</td>\n",
       "      <td>0</td>\n",
       "      <td>0</td>\n",
       "      <td>0</td>\n",
       "      <td>0</td>\n",
       "      <td>1</td>\n",
       "      <td>0</td>\n",
       "      <td>1</td>\n",
       "      <td>0</td>\n",
       "      <td>1</td>\n",
       "      <td>0</td>\n",
       "      <td>0</td>\n",
       "      <td>0</td>\n",
       "      <td>0</td>\n",
       "      <td>0</td>\n",
       "      <td>1</td>\n",
       "      <td>0</td>\n",
       "      <td>0</td>\n",
       "      <td>0</td>\n",
       "      <td>0</td>\n",
       "      <td>0</td>\n",
       "      <td>0</td>\n",
       "      <td>0</td>\n",
       "      <td>0</td>\n",
       "      <td>0</td>\n",
       "      <td>0</td>\n",
       "      <td>0</td>\n",
       "      <td>1</td>\n",
       "    </tr>\n",
       "    <tr>\n",
       "      <th>WW63253</th>\n",
       "      <td>7.784945</td>\n",
       "      <td>2011-01-20</td>\n",
       "      <td>1126.068191</td>\n",
       "      <td>0.782836</td>\n",
       "      <td>7.296692</td>\n",
       "      <td>25.893323</td>\n",
       "      <td>0.672603</td>\n",
       "      <td>1.397029</td>\n",
       "      <td>70.918465</td>\n",
       "      <td>1.027349</td>\n",
       "      <td>1</td>\n",
       "      <td>0</td>\n",
       "      <td>0</td>\n",
       "      <td>0</td>\n",
       "      <td>0</td>\n",
       "      <td>0</td>\n",
       "      <td>0</td>\n",
       "      <td>0</td>\n",
       "      <td>0</td>\n",
       "      <td>0</td>\n",
       "      <td>0</td>\n",
       "      <td>0</td>\n",
       "      <td>0</td>\n",
       "      <td>0</td>\n",
       "      <td>1</td>\n",
       "      <td>1</td>\n",
       "      <td>1</td>\n",
       "      <td>0</td>\n",
       "      <td>1</td>\n",
       "      <td>0</td>\n",
       "      <td>0</td>\n",
       "      <td>0</td>\n",
       "      <td>1</td>\n",
       "      <td>0</td>\n",
       "      <td>0</td>\n",
       "      <td>0</td>\n",
       "      <td>0</td>\n",
       "      <td>0</td>\n",
       "      <td>0</td>\n",
       "      <td>0</td>\n",
       "      <td>0</td>\n",
       "      <td>0</td>\n",
       "      <td>0</td>\n",
       "      <td>0</td>\n",
       "      <td>1</td>\n",
       "      <td>0</td>\n",
       "      <td>1</td>\n",
       "      <td>0</td>\n",
       "      <td>0</td>\n",
       "    </tr>\n",
       "    <tr>\n",
       "      <th>HB64268</th>\n",
       "      <td>7.020230</td>\n",
       "      <td>2011-02-03</td>\n",
       "      <td>1033.675306</td>\n",
       "      <td>0.781581</td>\n",
       "      <td>5.439438</td>\n",
       "      <td>19.285218</td>\n",
       "      <td>0.672603</td>\n",
       "      <td>0.000000</td>\n",
       "      <td>30.637715</td>\n",
       "      <td>1.027349</td>\n",
       "      <td>0</td>\n",
       "      <td>0</td>\n",
       "      <td>0</td>\n",
       "      <td>1</td>\n",
       "      <td>0</td>\n",
       "      <td>0</td>\n",
       "      <td>0</td>\n",
       "      <td>0</td>\n",
       "      <td>0</td>\n",
       "      <td>0</td>\n",
       "      <td>0</td>\n",
       "      <td>1</td>\n",
       "      <td>0</td>\n",
       "      <td>0</td>\n",
       "      <td>0</td>\n",
       "      <td>1</td>\n",
       "      <td>0</td>\n",
       "      <td>0</td>\n",
       "      <td>0</td>\n",
       "      <td>1</td>\n",
       "      <td>1</td>\n",
       "      <td>0</td>\n",
       "      <td>0</td>\n",
       "      <td>0</td>\n",
       "      <td>1</td>\n",
       "      <td>0</td>\n",
       "      <td>0</td>\n",
       "      <td>0</td>\n",
       "      <td>0</td>\n",
       "      <td>0</td>\n",
       "      <td>0</td>\n",
       "      <td>0</td>\n",
       "      <td>0</td>\n",
       "      <td>0</td>\n",
       "      <td>0</td>\n",
       "      <td>0</td>\n",
       "      <td>0</td>\n",
       "      <td>0</td>\n",
       "      <td>0</td>\n",
       "    </tr>\n",
       "    <tr>\n",
       "      <th>...</th>\n",
       "      <td>...</td>\n",
       "      <td>...</td>\n",
       "      <td>...</td>\n",
       "      <td>...</td>\n",
       "      <td>...</td>\n",
       "      <td>...</td>\n",
       "      <td>...</td>\n",
       "      <td>...</td>\n",
       "      <td>...</td>\n",
       "      <td>...</td>\n",
       "      <td>...</td>\n",
       "      <td>...</td>\n",
       "      <td>...</td>\n",
       "      <td>...</td>\n",
       "      <td>...</td>\n",
       "      <td>...</td>\n",
       "      <td>...</td>\n",
       "      <td>...</td>\n",
       "      <td>...</td>\n",
       "      <td>...</td>\n",
       "      <td>...</td>\n",
       "      <td>...</td>\n",
       "      <td>...</td>\n",
       "      <td>...</td>\n",
       "      <td>...</td>\n",
       "      <td>...</td>\n",
       "      <td>...</td>\n",
       "      <td>...</td>\n",
       "      <td>...</td>\n",
       "      <td>...</td>\n",
       "      <td>...</td>\n",
       "      <td>...</td>\n",
       "      <td>...</td>\n",
       "      <td>...</td>\n",
       "      <td>...</td>\n",
       "      <td>...</td>\n",
       "      <td>...</td>\n",
       "      <td>...</td>\n",
       "      <td>...</td>\n",
       "      <td>...</td>\n",
       "      <td>...</td>\n",
       "      <td>...</td>\n",
       "      <td>...</td>\n",
       "      <td>...</td>\n",
       "      <td>...</td>\n",
       "      <td>...</td>\n",
       "      <td>...</td>\n",
       "      <td>...</td>\n",
       "      <td>...</td>\n",
       "    </tr>\n",
       "    <tr>\n",
       "      <th>YM19146</th>\n",
       "      <td>7.311160</td>\n",
       "      <td>2011-01-06</td>\n",
       "      <td>1088.534114</td>\n",
       "      <td>0.782785</td>\n",
       "      <td>6.712640</td>\n",
       "      <td>23.770962</td>\n",
       "      <td>0.672603</td>\n",
       "      <td>0.000000</td>\n",
       "      <td>71.854900</td>\n",
       "      <td>2.092737</td>\n",
       "      <td>1</td>\n",
       "      <td>0</td>\n",
       "      <td>0</td>\n",
       "      <td>0</td>\n",
       "      <td>0</td>\n",
       "      <td>0</td>\n",
       "      <td>1</td>\n",
       "      <td>1</td>\n",
       "      <td>0</td>\n",
       "      <td>0</td>\n",
       "      <td>0</td>\n",
       "      <td>1</td>\n",
       "      <td>0</td>\n",
       "      <td>0</td>\n",
       "      <td>0</td>\n",
       "      <td>0</td>\n",
       "      <td>1</td>\n",
       "      <td>0</td>\n",
       "      <td>0</td>\n",
       "      <td>1</td>\n",
       "      <td>1</td>\n",
       "      <td>0</td>\n",
       "      <td>0</td>\n",
       "      <td>0</td>\n",
       "      <td>0</td>\n",
       "      <td>1</td>\n",
       "      <td>0</td>\n",
       "      <td>0</td>\n",
       "      <td>0</td>\n",
       "      <td>0</td>\n",
       "      <td>0</td>\n",
       "      <td>0</td>\n",
       "      <td>0</td>\n",
       "      <td>1</td>\n",
       "      <td>0</td>\n",
       "      <td>0</td>\n",
       "      <td>0</td>\n",
       "      <td>0</td>\n",
       "      <td>0</td>\n",
       "    </tr>\n",
       "    <tr>\n",
       "      <th>PK87824</th>\n",
       "      <td>7.094553</td>\n",
       "      <td>2011-02-12</td>\n",
       "      <td>674.524168</td>\n",
       "      <td>0.781898</td>\n",
       "      <td>6.095876</td>\n",
       "      <td>13.603156</td>\n",
       "      <td>0.672603</td>\n",
       "      <td>0.000000</td>\n",
       "      <td>57.673166</td>\n",
       "      <td>1.027349</td>\n",
       "      <td>1</td>\n",
       "      <td>0</td>\n",
       "      <td>0</td>\n",
       "      <td>0</td>\n",
       "      <td>1</td>\n",
       "      <td>1</td>\n",
       "      <td>0</td>\n",
       "      <td>1</td>\n",
       "      <td>0</td>\n",
       "      <td>0</td>\n",
       "      <td>0</td>\n",
       "      <td>1</td>\n",
       "      <td>0</td>\n",
       "      <td>0</td>\n",
       "      <td>0</td>\n",
       "      <td>0</td>\n",
       "      <td>1</td>\n",
       "      <td>0</td>\n",
       "      <td>0</td>\n",
       "      <td>0</td>\n",
       "      <td>0</td>\n",
       "      <td>0</td>\n",
       "      <td>0</td>\n",
       "      <td>1</td>\n",
       "      <td>0</td>\n",
       "      <td>0</td>\n",
       "      <td>0</td>\n",
       "      <td>0</td>\n",
       "      <td>0</td>\n",
       "      <td>0</td>\n",
       "      <td>0</td>\n",
       "      <td>0</td>\n",
       "      <td>0</td>\n",
       "      <td>1</td>\n",
       "      <td>0</td>\n",
       "      <td>0</td>\n",
       "      <td>0</td>\n",
       "      <td>0</td>\n",
       "      <td>0</td>\n",
       "    </tr>\n",
       "    <tr>\n",
       "      <th>TD14365</th>\n",
       "      <td>7.834251</td>\n",
       "      <td>2011-02-06</td>\n",
       "      <td>1126.068191</td>\n",
       "      <td>0.782166</td>\n",
       "      <td>4.357368</td>\n",
       "      <td>16.889119</td>\n",
       "      <td>1.202650</td>\n",
       "      <td>0.613081</td>\n",
       "      <td>90.708370</td>\n",
       "      <td>1.027349</td>\n",
       "      <td>1</td>\n",
       "      <td>0</td>\n",
       "      <td>0</td>\n",
       "      <td>0</td>\n",
       "      <td>0</td>\n",
       "      <td>1</td>\n",
       "      <td>0</td>\n",
       "      <td>0</td>\n",
       "      <td>0</td>\n",
       "      <td>0</td>\n",
       "      <td>0</td>\n",
       "      <td>0</td>\n",
       "      <td>0</td>\n",
       "      <td>0</td>\n",
       "      <td>1</td>\n",
       "      <td>1</td>\n",
       "      <td>1</td>\n",
       "      <td>0</td>\n",
       "      <td>0</td>\n",
       "      <td>1</td>\n",
       "      <td>0</td>\n",
       "      <td>0</td>\n",
       "      <td>1</td>\n",
       "      <td>0</td>\n",
       "      <td>0</td>\n",
       "      <td>0</td>\n",
       "      <td>0</td>\n",
       "      <td>0</td>\n",
       "      <td>0</td>\n",
       "      <td>0</td>\n",
       "      <td>0</td>\n",
       "      <td>0</td>\n",
       "      <td>0</td>\n",
       "      <td>1</td>\n",
       "      <td>0</td>\n",
       "      <td>0</td>\n",
       "      <td>0</td>\n",
       "      <td>0</td>\n",
       "      <td>0</td>\n",
       "    </tr>\n",
       "    <tr>\n",
       "      <th>UP19263</th>\n",
       "      <td>7.772890</td>\n",
       "      <td>2011-02-03</td>\n",
       "      <td>680.855164</td>\n",
       "      <td>0.782558</td>\n",
       "      <td>11.219725</td>\n",
       "      <td>1.664326</td>\n",
       "      <td>0.672603</td>\n",
       "      <td>0.906578</td>\n",
       "      <td>83.516575</td>\n",
       "      <td>2.092737</td>\n",
       "      <td>1</td>\n",
       "      <td>0</td>\n",
       "      <td>0</td>\n",
       "      <td>0</td>\n",
       "      <td>0</td>\n",
       "      <td>1</td>\n",
       "      <td>0</td>\n",
       "      <td>1</td>\n",
       "      <td>0</td>\n",
       "      <td>0</td>\n",
       "      <td>0</td>\n",
       "      <td>1</td>\n",
       "      <td>0</td>\n",
       "      <td>0</td>\n",
       "      <td>0</td>\n",
       "      <td>1</td>\n",
       "      <td>1</td>\n",
       "      <td>0</td>\n",
       "      <td>1</td>\n",
       "      <td>0</td>\n",
       "      <td>1</td>\n",
       "      <td>0</td>\n",
       "      <td>0</td>\n",
       "      <td>0</td>\n",
       "      <td>0</td>\n",
       "      <td>1</td>\n",
       "      <td>0</td>\n",
       "      <td>0</td>\n",
       "      <td>0</td>\n",
       "      <td>0</td>\n",
       "      <td>0</td>\n",
       "      <td>1</td>\n",
       "      <td>0</td>\n",
       "      <td>1</td>\n",
       "      <td>0</td>\n",
       "      <td>0</td>\n",
       "      <td>0</td>\n",
       "      <td>0</td>\n",
       "      <td>0</td>\n",
       "    </tr>\n",
       "    <tr>\n",
       "      <th>Y167826</th>\n",
       "      <td>6.962306</td>\n",
       "      <td>2011-02-14</td>\n",
       "      <td>1126.068191</td>\n",
       "      <td>0.781799</td>\n",
       "      <td>1.522966</td>\n",
       "      <td>32.992089</td>\n",
       "      <td>0.672603</td>\n",
       "      <td>0.000000</td>\n",
       "      <td>56.763943</td>\n",
       "      <td>1.027349</td>\n",
       "      <td>1</td>\n",
       "      <td>0</td>\n",
       "      <td>0</td>\n",
       "      <td>0</td>\n",
       "      <td>0</td>\n",
       "      <td>1</td>\n",
       "      <td>0</td>\n",
       "      <td>1</td>\n",
       "      <td>0</td>\n",
       "      <td>0</td>\n",
       "      <td>0</td>\n",
       "      <td>0</td>\n",
       "      <td>0</td>\n",
       "      <td>0</td>\n",
       "      <td>1</td>\n",
       "      <td>1</td>\n",
       "      <td>1</td>\n",
       "      <td>0</td>\n",
       "      <td>0</td>\n",
       "      <td>1</td>\n",
       "      <td>0</td>\n",
       "      <td>0</td>\n",
       "      <td>0</td>\n",
       "      <td>1</td>\n",
       "      <td>0</td>\n",
       "      <td>0</td>\n",
       "      <td>0</td>\n",
       "      <td>0</td>\n",
       "      <td>0</td>\n",
       "      <td>0</td>\n",
       "      <td>0</td>\n",
       "      <td>0</td>\n",
       "      <td>1</td>\n",
       "      <td>0</td>\n",
       "      <td>1</td>\n",
       "      <td>0</td>\n",
       "      <td>0</td>\n",
       "      <td>0</td>\n",
       "      <td>1</td>\n",
       "    </tr>\n",
       "  </tbody>\n",
       "</table>\n",
       "<p>8033 rows × 49 columns</p>\n",
       "</div>"
      ],
      "text/plain": [
       "          customer_lifetime_value effective_to_date       income  \\\n",
       "customer                                                           \n",
       "BU79786                  7.006242        2011-02-24  1201.691030   \n",
       "QZ44356                  7.716195        2011-01-31  1126.068191   \n",
       "AI49188                  8.174785        2011-02-19  1102.302199   \n",
       "WW63253                  7.784945        2011-01-20  1126.068191   \n",
       "HB64268                  7.020230        2011-02-03  1033.675306   \n",
       "...                           ...               ...          ...   \n",
       "YM19146                  7.311160        2011-01-06  1088.534114   \n",
       "PK87824                  7.094553        2011-02-12   674.524168   \n",
       "TD14365                  7.834251        2011-02-06  1126.068191   \n",
       "UP19263                  7.772890        2011-02-03   680.855164   \n",
       "Y167826                  6.962306        2011-02-14  1126.068191   \n",
       "\n",
       "          monthly_premium_auto  months_since_last_claim  \\\n",
       "customer                                                  \n",
       "BU79786               0.781334                10.782054   \n",
       "QZ44356               0.782494                 5.773149   \n",
       "AI49188               0.782884                 7.296692   \n",
       "WW63253               0.782836                 7.296692   \n",
       "HB64268               0.781581                 5.439438   \n",
       "...                        ...                      ...   \n",
       "YM19146               0.782785                 6.712640   \n",
       "PK87824               0.781898                 6.095876   \n",
       "TD14365               0.782166                 4.357368   \n",
       "UP19263               0.782558                11.219725   \n",
       "Y167826               0.781799                 1.522966   \n",
       "\n",
       "          months_since_policy_inception  number_of_open_complaints  \\\n",
       "customer                                                             \n",
       "BU79786                        3.008013                   0.672603   \n",
       "QZ44356                       18.612689                   0.672603   \n",
       "AI49188                       17.238979                   0.672603   \n",
       "WW63253                       25.893323                   0.672603   \n",
       "HB64268                       19.285218                   0.672603   \n",
       "...                                 ...                        ...   \n",
       "YM19146                       23.770962                   0.672603   \n",
       "PK87824                       13.603156                   0.672603   \n",
       "TD14365                       16.889119                   1.202650   \n",
       "UP19263                        1.664326                   0.672603   \n",
       "Y167826                       32.992089                   0.672603   \n",
       "\n",
       "          number_of_policies  total_claim_amount  vehicle_size  \\\n",
       "customer                                                         \n",
       "BU79786             0.000000           58.200363      1.027349   \n",
       "QZ44356             1.461512          112.949234      1.027349   \n",
       "AI49188             0.613081           73.896606      1.027349   \n",
       "WW63253             1.397029           70.918465      1.027349   \n",
       "HB64268             0.000000           30.637715      1.027349   \n",
       "...                      ...                 ...           ...   \n",
       "YM19146             0.000000           71.854900      2.092737   \n",
       "PK87824             0.000000           57.673166      1.027349   \n",
       "TD14365             0.613081           90.708370      1.027349   \n",
       "UP19263             0.906578           83.516575      2.092737   \n",
       "Y167826             0.000000           56.763943      1.027349   \n",
       "\n",
       "          state_California  state_Nevada  state_Oregon  state_Washington  \\\n",
       "customer                                                                   \n",
       "BU79786                  0             0             0                 1   \n",
       "QZ44356                  0             0             0                 0   \n",
       "AI49188                  0             1             0                 0   \n",
       "WW63253                  1             0             0                 0   \n",
       "HB64268                  0             0             0                 1   \n",
       "...                    ...           ...           ...               ...   \n",
       "YM19146                  1             0             0                 0   \n",
       "PK87824                  1             0             0                 0   \n",
       "TD14365                  1             0             0                 0   \n",
       "UP19263                  1             0             0                 0   \n",
       "Y167826                  1             0             0                 0   \n",
       "\n",
       "          response_Yes  coverage_Extended  coverage_Premium  \\\n",
       "customer                                                      \n",
       "BU79786              0                  0                 0   \n",
       "QZ44356              0                  1                 0   \n",
       "AI49188              0                  0                 1   \n",
       "WW63253              0                  0                 0   \n",
       "HB64268              0                  0                 0   \n",
       "...                ...                ...               ...   \n",
       "YM19146              0                  0                 1   \n",
       "PK87824              1                  1                 0   \n",
       "TD14365              0                  1                 0   \n",
       "UP19263              0                  1                 0   \n",
       "Y167826              0                  1                 0   \n",
       "\n",
       "          education_College  education_Doctor  education_High School or Below  \\\n",
       "customer                                                                        \n",
       "BU79786                   0                 0                               0   \n",
       "QZ44356                   0                 0                               0   \n",
       "AI49188                   0                 0                               0   \n",
       "WW63253                   0                 0                               0   \n",
       "HB64268                   0                 0                               0   \n",
       "...                     ...               ...                             ...   \n",
       "YM19146                   1                 0                               0   \n",
       "PK87824                   1                 0                               0   \n",
       "TD14365                   0                 0                               0   \n",
       "UP19263                   1                 0                               0   \n",
       "Y167826                   1                 0                               0   \n",
       "\n",
       "          education_Master  employmentstatus_Employed  \\\n",
       "customer                                                \n",
       "BU79786                  0                          1   \n",
       "QZ44356                  0                          0   \n",
       "AI49188                  0                          1   \n",
       "WW63253                  0                          0   \n",
       "HB64268                  0                          1   \n",
       "...                    ...                        ...   \n",
       "YM19146                  0                          1   \n",
       "PK87824                  0                          1   \n",
       "TD14365                  0                          0   \n",
       "UP19263                  0                          1   \n",
       "Y167826                  0                          0   \n",
       "\n",
       "          employmentstatus_Medical Leave  employmentstatus_Retired  \\\n",
       "customer                                                             \n",
       "BU79786                                0                         0   \n",
       "QZ44356                                0                         0   \n",
       "AI49188                                0                         0   \n",
       "WW63253                                0                         0   \n",
       "HB64268                                0                         0   \n",
       "...                                  ...                       ...   \n",
       "YM19146                                0                         0   \n",
       "PK87824                                0                         0   \n",
       "TD14365                                0                         0   \n",
       "UP19263                                0                         0   \n",
       "Y167826                                0                         0   \n",
       "\n",
       "          employmentstatus_Unemployed  gender_M  location_code_Suburban  \\\n",
       "customer                                                                  \n",
       "BU79786                             0         0                       1   \n",
       "QZ44356                             1         0                       1   \n",
       "AI49188                             0         0                       1   \n",
       "WW63253                             1         1                       1   \n",
       "HB64268                             0         1                       0   \n",
       "...                               ...       ...                     ...   \n",
       "YM19146                             0         0                       1   \n",
       "PK87824                             0         0                       1   \n",
       "TD14365                             1         1                       1   \n",
       "UP19263                             0         1                       1   \n",
       "Y167826                             1         1                       1   \n",
       "\n",
       "          location_code_Urban  marital_status_Married  marital_status_Single  \\\n",
       "customer                                                                       \n",
       "BU79786                     0                       1                      0   \n",
       "QZ44356                     0                       0                      1   \n",
       "AI49188                     0                       1                      0   \n",
       "WW63253                     0                       1                      0   \n",
       "HB64268                     0                       0                      1   \n",
       "...                       ...                     ...                    ...   \n",
       "YM19146                     0                       0                      1   \n",
       "PK87824                     0                       0                      0   \n",
       "TD14365                     0                       0                      1   \n",
       "UP19263                     0                       1                      0   \n",
       "Y167826                     0                       0                      1   \n",
       "\n",
       "          policy_type_Personal Auto  policy_type_Special Auto  \\\n",
       "customer                                                        \n",
       "BU79786                           0                         0   \n",
       "QZ44356                           1                         0   \n",
       "AI49188                           1                         0   \n",
       "WW63253                           0                         0   \n",
       "HB64268                           1                         0   \n",
       "...                             ...                       ...   \n",
       "YM19146                           1                         0   \n",
       "PK87824                           0                         0   \n",
       "TD14365                           0                         0   \n",
       "UP19263                           1                         0   \n",
       "Y167826                           0                         0   \n",
       "\n",
       "          policy_Corporate L2  policy_Corporate L3  policy_Personal L1  \\\n",
       "customer                                                                 \n",
       "BU79786                     0                    1                   0   \n",
       "QZ44356                     0                    0                   0   \n",
       "AI49188                     0                    0                   0   \n",
       "WW63253                     1                    0                   0   \n",
       "HB64268                     0                    0                   1   \n",
       "...                       ...                  ...                 ...   \n",
       "YM19146                     0                    0                   0   \n",
       "PK87824                     0                    1                   0   \n",
       "TD14365                     1                    0                   0   \n",
       "UP19263                     0                    0                   0   \n",
       "Y167826                     0                    1                   0   \n",
       "\n",
       "          policy_Personal L2  policy_Personal L3  policy_Special L1  \\\n",
       "customer                                                              \n",
       "BU79786                    0                   0                  0   \n",
       "QZ44356                    0                   1                  0   \n",
       "AI49188                    0                   1                  0   \n",
       "WW63253                    0                   0                  0   \n",
       "HB64268                    0                   0                  0   \n",
       "...                      ...                 ...                ...   \n",
       "YM19146                    1                   0                  0   \n",
       "PK87824                    0                   0                  0   \n",
       "TD14365                    0                   0                  0   \n",
       "UP19263                    1                   0                  0   \n",
       "Y167826                    0                   0                  0   \n",
       "\n",
       "          policy_Special L2  policy_Special L3  renew_offer_type_Offer2  \\\n",
       "customer                                                                  \n",
       "BU79786                   0                  0                        0   \n",
       "QZ44356                   0                  0                        0   \n",
       "AI49188                   0                  0                        0   \n",
       "WW63253                   0                  0                        0   \n",
       "HB64268                   0                  0                        0   \n",
       "...                     ...                ...                      ...   \n",
       "YM19146                   0                  0                        0   \n",
       "PK87824                   0                  0                        0   \n",
       "TD14365                   0                  0                        0   \n",
       "UP19263                   0                  0                        0   \n",
       "Y167826                   0                  0                        0   \n",
       "\n",
       "          renew_offer_type_Offer3  renew_offer_type_Offer4  \\\n",
       "customer                                                     \n",
       "BU79786                         0                        0   \n",
       "QZ44356                         1                        0   \n",
       "AI49188                         0                        0   \n",
       "WW63253                         0                        0   \n",
       "HB64268                         0                        0   \n",
       "...                           ...                      ...   \n",
       "YM19146                         0                        0   \n",
       "PK87824                         0                        0   \n",
       "TD14365                         0                        0   \n",
       "UP19263                         1                        0   \n",
       "Y167826                         0                        1   \n",
       "\n",
       "          sales_channel_Branch  sales_channel_Call Center  sales_channel_Web  \\\n",
       "customer                                                                       \n",
       "BU79786                      0                          0                  0   \n",
       "QZ44356                      0                          0                  0   \n",
       "AI49188                      0                          0                  0   \n",
       "WW63253                      0                          1                  0   \n",
       "HB64268                      0                          0                  0   \n",
       "...                        ...                        ...                ...   \n",
       "YM19146                      1                          0                  0   \n",
       "PK87824                      1                          0                  0   \n",
       "TD14365                      1                          0                  0   \n",
       "UP19263                      1                          0                  0   \n",
       "Y167826                      0                          1                  0   \n",
       "\n",
       "          vehicle_class_SUV  vehicle_class_Sports Car  \\\n",
       "customer                                                \n",
       "BU79786                   0                         0   \n",
       "QZ44356                   0                         0   \n",
       "AI49188                   0                         0   \n",
       "WW63253                   1                         0   \n",
       "HB64268                   0                         0   \n",
       "...                     ...                       ...   \n",
       "YM19146                   0                         0   \n",
       "PK87824                   0                         0   \n",
       "TD14365                   0                         0   \n",
       "UP19263                   0                         0   \n",
       "Y167826                   0                         0   \n",
       "\n",
       "          vehicle_class_Two-Door Car  \n",
       "customer                              \n",
       "BU79786                            1  \n",
       "QZ44356                            0  \n",
       "AI49188                            1  \n",
       "WW63253                            0  \n",
       "HB64268                            0  \n",
       "...                              ...  \n",
       "YM19146                            0  \n",
       "PK87824                            0  \n",
       "TD14365                            0  \n",
       "UP19263                            0  \n",
       "Y167826                            1  \n",
       "\n",
       "[8033 rows x 49 columns]"
      ]
     },
     "execution_count": 340,
     "metadata": {},
     "output_type": "execute_result"
    }
   ],
   "source": [
    "df2 = pd.get_dummies(df1, drop_first=True)\n",
    "df2"
   ]
  },
  {
   "cell_type": "code",
   "execution_count": 341,
   "metadata": {},
   "outputs": [],
   "source": [
    "# Encoding Categorical Data\n",
    "# Splitting into train set and test set\n",
    "\n",
    "X = df2.drop(['total_claim_amount','effective_to_date'], axis=1)\n",
    "y = df2['total_claim_amount']\n",
    "\n",
    "X_train, X_test, y_train, y_test = train_test_split(X, y, test_size=0.3, random_state=10)"
   ]
  },
  {
   "cell_type": "markdown",
   "metadata": {},
   "source": [
    "## 05 - Modeling"
   ]
  },
  {
   "cell_type": "markdown",
   "metadata": {},
   "source": [
    "Apply model."
   ]
  },
  {
   "cell_type": "code",
   "execution_count": 342,
   "metadata": {},
   "outputs": [
    {
     "data": {
      "text/plain": [
       "LinearRegression()"
      ]
     },
     "execution_count": 342,
     "metadata": {},
     "output_type": "execute_result"
    }
   ],
   "source": [
    "model = LinearRegression()\n",
    "model.fit(X_train, y_train)"
   ]
  },
  {
   "cell_type": "code",
   "execution_count": 343,
   "metadata": {},
   "outputs": [
    {
     "name": "stdout",
     "output_type": "stream",
     "text": [
      "                            OLS Regression Results                            \n",
      "==============================================================================\n",
      "Dep. Variable:     total_claim_amount   R-squared:                       0.806\n",
      "Model:                            OLS   Adj. R-squared:                  0.805\n",
      "Method:                 Least Squares   F-statistic:                     736.8\n",
      "Date:                Sun, 13 Jun 2021   Prob (F-statistic):               0.00\n",
      "Time:                        21:52:38   Log-Likelihood:                -29778.\n",
      "No. Observations:                8033   AIC:                         5.965e+04\n",
      "Df Residuals:                    7987   BIC:                         5.997e+04\n",
      "Df Model:                          45                                         \n",
      "Covariance Type:            nonrobust                                         \n",
      "==================================================================================================\n",
      "                                     coef    std err          t      P>|t|      [0.025      0.975]\n",
      "--------------------------------------------------------------------------------------------------\n",
      "const                          -5017.1060    313.928    -15.982      0.000   -5632.487   -4401.725\n",
      "customer_lifetime_value            0.2625      0.430      0.611      0.541      -0.580       1.105\n",
      "income                            -0.0013      0.000     -2.616      0.009      -0.002      -0.000\n",
      "monthly_premium_auto            6441.0098    402.475     16.004      0.000    5652.054    7229.965\n",
      "months_since_last_claim            0.0321      0.035      0.909      0.363      -0.037       0.101\n",
      "months_since_policy_inception     -0.0028      0.012     -0.240      0.811      -0.026       0.020\n",
      "number_of_open_complaints          0.4338      0.391      1.108      0.268      -0.333       1.201\n",
      "number_of_policies                -0.0443      0.265     -0.167      0.867      -0.564       0.475\n",
      "vehicle_size                      -0.9003      0.200     -4.496      0.000      -1.293      -0.508\n",
      "state_California                   0.1214      0.317      0.383      0.702      -0.500       0.743\n",
      "state_Nevada                      -0.1100      0.439     -0.251      0.802      -0.970       0.750\n",
      "state_Oregon                      -0.2202      0.328     -0.670      0.503      -0.864       0.424\n",
      "state_Washington                   0.3125      0.454      0.689      0.491      -0.577       1.202\n",
      "response_Yes                      -1.7232      0.346     -4.976      0.000      -2.402      -1.044\n",
      "coverage_Extended                  2.2344      0.424      5.267      0.000       1.403       3.066\n",
      "coverage_Premium                   7.8683      0.745     10.563      0.000       6.408       9.329\n",
      "education_College                 -0.5138      0.287     -1.792      0.073      -1.076       0.048\n",
      "education_Doctor                  -0.8338      0.601     -1.386      0.166      -2.013       0.345\n",
      "education_High School or Below     0.5972      0.292      2.044      0.041       0.025       1.170\n",
      "education_Master                  -0.6407      0.443     -1.448      0.148      -1.508       0.227\n",
      "employmentstatus_Employed          0.0291      0.606      0.048      0.962      -1.159       1.217\n",
      "employmentstatus_Medical Leave     1.1909      0.728      1.635      0.102      -0.237       2.619\n",
      "employmentstatus_Retired           0.8831      0.842      1.048      0.294      -0.768       2.534\n",
      "employmentstatus_Unemployed        5.9183      0.632      9.359      0.000       4.679       7.158\n",
      "gender_M                           0.9240      0.223      4.149      0.000       0.487       1.361\n",
      "location_code_Suburban            40.4974      0.321    126.332      0.000      39.869      41.126\n",
      "location_code_Urban               26.6591      0.363     73.421      0.000      25.947      27.371\n",
      "marital_status_Married            -0.0204      0.329     -0.062      0.951      -0.665       0.624\n",
      "marital_status_Single              4.6996      0.378     12.436      0.000       3.959       5.440\n",
      "policy_type_Personal Auto          0.1517      0.440      0.345      0.730      -0.711       1.015\n",
      "policy_type_Special Auto           0.9504      0.619      1.534      0.125      -0.264       2.165\n",
      "policy_Corporate L2               -0.3247      0.713     -0.455      0.649      -1.723       1.074\n",
      "policy_Corporate L3               -0.1721      0.659     -0.261      0.794      -1.465       1.121\n",
      "policy_Personal L1                 0.4907      0.275      1.784      0.075      -0.049       1.030\n",
      "policy_Personal L2                -0.3908      0.240     -1.631      0.103      -0.861       0.079\n",
      "policy_Personal L3                 0.0518      0.218      0.238      0.812      -0.376       0.479\n",
      "policy_Special L1                  2.3064      1.041      2.216      0.027       0.266       4.347\n",
      "policy_Special L2                 -0.7312      0.751     -0.974      0.330      -2.203       0.741\n",
      "policy_Special L3                 -0.6248      0.787     -0.794      0.427      -2.168       0.918\n",
      "renew_offer_type_Offer2            0.9333      0.278      3.360      0.001       0.389       1.478\n",
      "renew_offer_type_Offer3            0.5217      0.339      1.541      0.123      -0.142       1.185\n",
      "renew_offer_type_Offer4            0.5573      0.393      1.420      0.156      -0.212       1.327\n",
      "sales_channel_Branch               0.2688      0.277      0.971      0.332      -0.274       0.812\n",
      "sales_channel_Call Center         -0.1572      0.313     -0.503      0.615      -0.770       0.455\n",
      "sales_channel_Web                  0.1211      0.347      0.350      0.727      -0.558       0.800\n",
      "vehicle_class_SUV                  7.8701      0.650     12.115      0.000       6.597       9.144\n",
      "vehicle_class_Sports Car           7.6648      0.772      9.923      0.000       6.151       9.179\n",
      "vehicle_class_Two-Door Car         0.1214      0.280      0.433      0.665      -0.428       0.671\n",
      "==============================================================================\n",
      "Omnibus:                     1086.238   Durbin-Watson:                   1.984\n",
      "Prob(Omnibus):                  0.000   Jarque-Bera (JB):             2614.219\n",
      "Skew:                           0.781   Prob(JB):                         0.00\n",
      "Kurtosis:                       5.318   Cond. No.                     1.03e+16\n",
      "==============================================================================\n",
      "\n",
      "Notes:\n",
      "[1] Standard Errors assume that the covariance matrix of the errors is correctly specified.\n",
      "[2] The smallest eigenvalue is 9.73e-23. This might indicate that there are\n",
      "strong multicollinearity problems or that the design matrix is singular.\n"
     ]
    }
   ],
   "source": [
    "X = sm.add_constant(X)\n",
    "model = sm.OLS(y,X).fit()\n",
    "print(model.summary())"
   ]
  },
  {
   "cell_type": "code",
   "execution_count": 344,
   "metadata": {},
   "outputs": [
    {
     "data": {
      "text/plain": [
       "Index(['const', 'customer_lifetime_value', 'income', 'monthly_premium_auto',\n",
       "       'months_since_last_claim', 'months_since_policy_inception',\n",
       "       'number_of_open_complaints', 'number_of_policies', 'vehicle_size',\n",
       "       'state_California', 'state_Nevada', 'state_Oregon', 'state_Washington',\n",
       "       'response_Yes', 'coverage_Extended', 'coverage_Premium',\n",
       "       'education_College', 'education_Doctor',\n",
       "       'education_High School or Below', 'education_Master',\n",
       "       'employmentstatus_Employed', 'employmentstatus_Medical Leave',\n",
       "       'employmentstatus_Retired', 'employmentstatus_Unemployed', 'gender_M',\n",
       "       'location_code_Suburban', 'location_code_Urban',\n",
       "       'marital_status_Married', 'marital_status_Single',\n",
       "       'policy_type_Personal Auto', 'policy_type_Special Auto',\n",
       "       'policy_Corporate L2', 'policy_Corporate L3', 'policy_Personal L1',\n",
       "       'policy_Personal L2', 'policy_Personal L3', 'policy_Special L1',\n",
       "       'policy_Special L2', 'policy_Special L3', 'renew_offer_type_Offer2',\n",
       "       'renew_offer_type_Offer3', 'renew_offer_type_Offer4',\n",
       "       'sales_channel_Branch', 'sales_channel_Call Center',\n",
       "       'sales_channel_Web', 'vehicle_class_SUV', 'vehicle_class_Sports Car',\n",
       "       'vehicle_class_Two-Door Car'],\n",
       "      dtype='object')"
      ]
     },
     "execution_count": 344,
     "metadata": {},
     "output_type": "execute_result"
    }
   ],
   "source": [
    "X.columns"
   ]
  },
  {
   "cell_type": "code",
   "execution_count": 345,
   "metadata": {},
   "outputs": [],
   "source": [
    "# eliminate the variables whose Pvalue is over 0.05\n",
    "\n",
    "X2 = df2.drop(['total_claim_amount','effective_to_date', 'customer_lifetime_value','months_since_last_claim',\n",
    "               'months_since_policy_inception', 'number_of_open_complaints', 'number_of_policies',\n",
    "               'state_California', 'state_Nevada', 'state_Oregon', 'state_Washington', \n",
    "               'education_College', 'education_Doctor', 'education_High School or Below', 'education_Master',\n",
    "               'employmentstatus_Employed', 'employmentstatus_Medical Leave','employmentstatus_Retired', \n",
    "               'employmentstatus_Unemployed',\n",
    "               'policy_type_Personal Auto', 'policy_type_Special Auto',\n",
    "               'policy_Corporate L2', 'policy_Corporate L3', 'policy_Personal L1',\n",
    "               'policy_Personal L2', 'policy_Personal L3', 'policy_Special L1',\n",
    "               'policy_Special L2', 'policy_Special L3', 'renew_offer_type_Offer2',\n",
    "               'renew_offer_type_Offer3', 'renew_offer_type_Offer4',\n",
    "               'sales_channel_Branch', 'sales_channel_Call Center',\n",
    "               'sales_channel_Web',\n",
    "              ], axis=1)\n",
    "y = df2['total_claim_amount']\n",
    "\n",
    "X_train2, X_test2, y_train2, y_test2 = train_test_split(X2, y, test_size=0.3, random_state=10)"
   ]
  },
  {
   "cell_type": "code",
   "execution_count": 346,
   "metadata": {},
   "outputs": [
    {
     "data": {
      "text/plain": [
       "LinearRegression()"
      ]
     },
     "execution_count": 346,
     "metadata": {},
     "output_type": "execute_result"
    }
   ],
   "source": [
    "model = LinearRegression()\n",
    "model.fit(X_train2, y_train2)"
   ]
  },
  {
   "cell_type": "code",
   "execution_count": 347,
   "metadata": {},
   "outputs": [
    {
     "name": "stdout",
     "output_type": "stream",
     "text": [
      "                            OLS Regression Results                            \n",
      "==============================================================================\n",
      "Dep. Variable:     total_claim_amount   R-squared:                       0.796\n",
      "Model:                            OLS   Adj. R-squared:                  0.795\n",
      "Method:                 Least Squares   F-statistic:                     2230.\n",
      "Date:                Sun, 13 Jun 2021   Prob (F-statistic):               0.00\n",
      "Time:                        21:52:38   Log-Likelihood:                -29984.\n",
      "No. Observations:                8033   AIC:                         6.000e+04\n",
      "Df Residuals:                    8018   BIC:                         6.010e+04\n",
      "Df Model:                          14                                         \n",
      "Covariance Type:            nonrobust                                         \n",
      "==============================================================================================\n",
      "                                 coef    std err          t      P>|t|      [0.025      0.975]\n",
      "----------------------------------------------------------------------------------------------\n",
      "const                      -4947.5565    316.781    -15.618      0.000   -5568.529   -4326.584\n",
      "income                        -0.0003      0.000     -0.648      0.517      -0.001       0.001\n",
      "monthly_premium_auto        6353.7908    405.490     15.669      0.000    5558.924    7148.657\n",
      "vehicle_size                  -0.6045      0.204     -2.963      0.003      -1.004      -0.205\n",
      "response_Yes                  -2.4200      0.326     -7.413      0.000      -3.060      -1.780\n",
      "coverage_Extended              2.4567      0.433      5.679      0.000       1.609       3.305\n",
      "coverage_Premium               7.9250      0.759     10.442      0.000       6.437       9.413\n",
      "gender_M                       0.8056      0.227      3.548      0.000       0.361       1.251\n",
      "location_code_Suburban        42.3969      0.310    136.564      0.000      41.788      43.005\n",
      "location_code_Urban           26.6275      0.371     71.743      0.000      25.900      27.355\n",
      "marital_status_Married         0.1543      0.331      0.466      0.641      -0.494       0.803\n",
      "marital_status_Single          6.6458      0.371     17.926      0.000       5.919       7.373\n",
      "vehicle_class_SUV              8.1171      0.661     12.279      0.000       6.821       9.413\n",
      "vehicle_class_Sports Car       7.9395      0.788     10.071      0.000       6.394       9.485\n",
      "vehicle_class_Two-Door Car     0.0368      0.286      0.129      0.898      -0.524       0.598\n",
      "==============================================================================\n",
      "Omnibus:                     1221.815   Durbin-Watson:                   1.971\n",
      "Prob(Omnibus):                  0.000   Jarque-Bera (JB):             2908.493\n",
      "Skew:                           0.871   Prob(JB):                         0.00\n",
      "Kurtosis:                       5.378   Cond. No.                     5.19e+06\n",
      "==============================================================================\n",
      "\n",
      "Notes:\n",
      "[1] Standard Errors assume that the covariance matrix of the errors is correctly specified.\n",
      "[2] The condition number is large, 5.19e+06. This might indicate that there are\n",
      "strong multicollinearity or other numerical problems.\n"
     ]
    }
   ],
   "source": [
    "X2 = sm.add_constant(X2)\n",
    "model = sm.OLS(y,X2).fit()\n",
    "print(model.summary())"
   ]
  },
  {
   "cell_type": "code",
   "execution_count": 348,
   "metadata": {},
   "outputs": [],
   "source": [
    "# eliminate the variables whose Pvalue is over 0.05\n",
    "\n",
    "X3 = X2.drop('income', axis=1)\n",
    "y = df2['total_claim_amount']\n",
    "\n",
    "X_train3, X_test3, y_train3, y_test3 = train_test_split(X3, y, test_size=0.3, random_state=10)"
   ]
  },
  {
   "cell_type": "code",
   "execution_count": 349,
   "metadata": {},
   "outputs": [
    {
     "data": {
      "text/plain": [
       "LinearRegression()"
      ]
     },
     "execution_count": 349,
     "metadata": {},
     "output_type": "execute_result"
    }
   ],
   "source": [
    "model = LinearRegression()\n",
    "model.fit(X_train3, y_train3)"
   ]
  },
  {
   "cell_type": "code",
   "execution_count": 350,
   "metadata": {},
   "outputs": [
    {
     "name": "stdout",
     "output_type": "stream",
     "text": [
      "                            OLS Regression Results                            \n",
      "==============================================================================\n",
      "Dep. Variable:     total_claim_amount   R-squared:                       0.796\n",
      "Model:                            OLS   Adj. R-squared:                  0.795\n",
      "Method:                 Least Squares   F-statistic:                     2401.\n",
      "Date:                Sun, 13 Jun 2021   Prob (F-statistic):               0.00\n",
      "Time:                        21:52:38   Log-Likelihood:                -29984.\n",
      "No. Observations:                8033   AIC:                         6.000e+04\n",
      "Df Residuals:                    8019   BIC:                         6.009e+04\n",
      "Df Model:                          13                                         \n",
      "Covariance Type:            nonrobust                                         \n",
      "==============================================================================================\n",
      "                                 coef    std err          t      P>|t|      [0.025      0.975]\n",
      "----------------------------------------------------------------------------------------------\n",
      "const                      -4939.0648    316.498    -15.605      0.000   -5559.484   -4318.646\n",
      "monthly_premium_auto        6342.5107    405.102     15.657      0.000    5548.405    7136.617\n",
      "vehicle_size                  -0.5979      0.204     -2.935      0.003      -0.997      -0.199\n",
      "response_Yes                  -2.4108      0.326     -7.392      0.000      -3.050      -1.772\n",
      "coverage_Extended              2.4689      0.432      5.713      0.000       1.622       3.316\n",
      "coverage_Premium               7.9348      0.759     10.458      0.000       6.447       9.422\n",
      "gender_M                       0.8006      0.227      3.528      0.000       0.356       1.245\n",
      "location_code_Suburban        42.4466      0.301    141.108      0.000      41.857      43.036\n",
      "location_code_Urban           26.6307      0.371     71.760      0.000      25.903      27.358\n",
      "marital_status_Married         0.1476      0.331      0.446      0.655      -0.501       0.796\n",
      "marital_status_Single          6.6287      0.370     17.926      0.000       5.904       7.354\n",
      "vehicle_class_SUV              8.1318      0.661     12.309      0.000       6.837       9.427\n",
      "vehicle_class_Sports Car       7.9588      0.788     10.103      0.000       6.415       9.503\n",
      "vehicle_class_Two-Door Car     0.0350      0.286      0.122      0.903      -0.526       0.596\n",
      "==============================================================================\n",
      "Omnibus:                     1222.558   Durbin-Watson:                   1.971\n",
      "Prob(Omnibus):                  0.000   Jarque-Bera (JB):             2913.382\n",
      "Skew:                           0.871   Prob(JB):                         0.00\n",
      "Kurtosis:                       5.381   Cond. No.                     9.00e+03\n",
      "==============================================================================\n",
      "\n",
      "Notes:\n",
      "[1] Standard Errors assume that the covariance matrix of the errors is correctly specified.\n",
      "[2] The condition number is large,  9e+03. This might indicate that there are\n",
      "strong multicollinearity or other numerical problems.\n"
     ]
    }
   ],
   "source": [
    "X3 = sm.add_constant(X3)\n",
    "model = sm.OLS(y,X3).fit()\n",
    "print(model.summary())"
   ]
  },
  {
   "cell_type": "markdown",
   "metadata": {},
   "source": [
    "## 06 - Model Validation"
   ]
  },
  {
   "cell_type": "markdown",
   "metadata": {},
   "source": [
    "- R2.\n",
    "- MSE.\n",
    "- RMSE.\n",
    "- MAE."
   ]
  },
  {
   "cell_type": "code",
   "execution_count": 351,
   "metadata": {},
   "outputs": [],
   "source": [
    "predictions = model.predict(X_test3)"
   ]
  },
  {
   "cell_type": "code",
   "execution_count": 352,
   "metadata": {},
   "outputs": [
    {
     "data": {
      "text/plain": [
       "0.80351982906292"
      ]
     },
     "execution_count": 352,
     "metadata": {},
     "output_type": "execute_result"
    }
   ],
   "source": [
    "# R2\n",
    "r2_score(y_test3, predictions)"
   ]
  },
  {
   "cell_type": "code",
   "execution_count": 353,
   "metadata": {},
   "outputs": [
    {
     "data": {
      "text/plain": [
       "99.33317575862583"
      ]
     },
     "execution_count": 353,
     "metadata": {},
     "output_type": "execute_result"
    }
   ],
   "source": [
    "# MSE\n",
    "mse = mean_squared_error(y_test3, predictions)\n",
    "mse"
   ]
  },
  {
   "cell_type": "code",
   "execution_count": 354,
   "metadata": {},
   "outputs": [
    {
     "data": {
      "text/plain": [
       "9.966603020017695"
      ]
     },
     "execution_count": 354,
     "metadata": {},
     "output_type": "execute_result"
    }
   ],
   "source": [
    "# RMSE\n",
    "import math\n",
    "\n",
    "math.sqrt(mse)"
   ]
  },
  {
   "cell_type": "code",
   "execution_count": 355,
   "metadata": {},
   "outputs": [
    {
     "data": {
      "text/plain": [
       "7.759479882182805"
      ]
     },
     "execution_count": 355,
     "metadata": {},
     "output_type": "execute_result"
    }
   ],
   "source": [
    "# MAE\n",
    "mean_absolute_error(y_test3, predictions)"
   ]
  },
  {
   "cell_type": "markdown",
   "metadata": {},
   "source": [
    "## 07 - Reporting"
   ]
  },
  {
   "cell_type": "markdown",
   "metadata": {},
   "source": [
    "Present results."
   ]
  },
  {
   "cell_type": "code",
   "execution_count": 356,
   "metadata": {},
   "outputs": [
    {
     "data": {
      "text/plain": [
       "<AxesSubplot:xlabel='monthly_premium_auto', ylabel='total_claim_amount'>"
      ]
     },
     "execution_count": 356,
     "metadata": {},
     "output_type": "execute_result"
    },
    {
     "data": {
      "image/png": "[encoded data removed]",
      "text/plain": [
       "<Figure size 432x288 with 1 Axes>"
      ]
     },
     "metadata": {
      "needs_background": "light"
     },
     "output_type": "display_data"
    }
   ],
   "source": [
    "sns.regplot(X3['monthly_premium_auto'], y, line_kws={\"color\": \"red\"})"
   ]
  },
  {
   "cell_type": "code",
   "execution_count": 357,
   "metadata": {},
   "outputs": [
    {
     "data": {
      "text/plain": [
       "<AxesSubplot:xlabel='total_claim_amount'>"
      ]
     },
     "execution_count": 357,
     "metadata": {},
     "output_type": "execute_result"
    },
    {
     "data": {
      "image/png": "[encoded data removed]",
      "text/plain": [
       "<Figure size 432x288 with 1 Axes>"
      ]
     },
     "metadata": {
      "needs_background": "light"
     },
     "output_type": "display_data"
    }
   ],
   "source": [
    "sns.scatterplot(y,predictions)"
   ]
  },
  {
   "cell_type": "code",
   "execution_count": 358,
   "metadata": {},
   "outputs": [
    {
     "data": {
      "text/plain": [
       "<AxesSubplot:xlabel='total_claim_amount'>"
      ]
     },
     "execution_count": 358,
     "metadata": {},
     "output_type": "execute_result"
    },
    {
     "data": {
      "image/png": "[encoded data removed]",
      "text/plain": [
       "<Figure size 432x288 with 1 Axes>"
      ]
     },
     "metadata": {
      "needs_background": "light"
     },
     "output_type": "display_data"
    }
   ],
   "source": [
    "residuals = y - predictions\n",
    "sns.residplot(y,residuals)"
   ]
  },
  {
   "cell_type": "markdown",
   "metadata": {},
   "source": [
    "# --Conclusion--\n",
    "\n",
    "R2 of the model reached 0.8035.\n",
    "\n",
    "Setting the target variable as 'Total Claim Amount', the independent variables for the best model were as following.\n",
    "\n",
    "- monthly_premium_auto (normalized by Boxcox)\n",
    "- vehicle (done labeling encoding, changed datatype into ordinal number)\n",
    "- response (made dummies)\n",
    "- coverage (made dummies)\n",
    "- gender (made dummies)\n",
    "- location_code (made dummies)\n",
    "- marital_status (made dummies)\n",
    "- vehicle_class (made dummies)"
   ]
  },
  {
   "cell_type": "code",
   "execution_count": null,
   "metadata": {},
   "outputs": [],
   "source": []
  }
 ],
 "metadata": {
  "kernelspec": {
   "display_name": "Python 3",
   "language": "python",
   "name": "python3"
  },
  "language_info": {
   "codemirror_mode": {
    "name": "ipython",
    "version": 3
   },
   "file_extension": ".py",
   "mimetype": "text/x-python",
   "name": "python",
   "nbconvert_exporter": "python",
   "pygments_lexer": "ipython3",
   "version": "3.8.8"
  }
 },
 "nbformat": 4,
 "nbformat_minor": 2
}
